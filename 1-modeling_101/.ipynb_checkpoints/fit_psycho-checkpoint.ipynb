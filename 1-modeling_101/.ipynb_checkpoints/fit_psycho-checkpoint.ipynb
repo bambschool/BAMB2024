{
 "cells": [
  {
   "cell_type": "markdown",
   "id": "dde7abb5-89b2-4331-93b1-2763417b8c7c",
   "metadata": {},
   "source": [
    "\n",
    "# Fit psychometric function using Maximum Likelihood\n"
   ]
  },
  {
   "cell_type": "code",
   "execution_count": 10,
   "id": "c6a119bd-f9e8-45e6-8c2b-c06a54ae5b1f",
   "metadata": {},
   "outputs": [],
   "source": [
    "# import packages\n",
    "import numpy as np\n",
    "import pandas as pd\n",
    "import matplotlib.pyplot as plt\n",
    "from scipy.stats import norm\n",
    "import scipy.optimize as optimize"
   ]
  },
  {
   "cell_type": "code",
   "execution_count": 11,
   "id": "87f1e49b-096e-41b2-a20d-9d9d332f5472",
   "metadata": {},
   "outputs": [
    {
     "data": {
      "text/html": [
       "<div>\n",
       "<style scoped>\n",
       "    .dataframe tbody tr th:only-of-type {\n",
       "        vertical-align: middle;\n",
       "    }\n",
       "\n",
       "    .dataframe tbody tr th {\n",
       "        vertical-align: top;\n",
       "    }\n",
       "\n",
       "    .dataframe thead th {\n",
       "        text-align: right;\n",
       "    }\n",
       "</style>\n",
       "<table border=\"1\" class=\"dataframe\">\n",
       "  <thead>\n",
       "    <tr style=\"text-align: right;\">\n",
       "      <th></th>\n",
       "      <th>Unnamed: 0</th>\n",
       "      <th>stimulus</th>\n",
       "      <th>condition</th>\n",
       "      <th>response</th>\n",
       "    </tr>\n",
       "  </thead>\n",
       "  <tbody>\n",
       "    <tr>\n",
       "      <th>0</th>\n",
       "      <td>0</td>\n",
       "      <td>0.0</td>\n",
       "      <td>manipulation</td>\n",
       "      <td>0</td>\n",
       "    </tr>\n",
       "    <tr>\n",
       "      <th>1</th>\n",
       "      <td>1</td>\n",
       "      <td>-2.0</td>\n",
       "      <td>manipulation</td>\n",
       "      <td>0</td>\n",
       "    </tr>\n",
       "    <tr>\n",
       "      <th>5</th>\n",
       "      <td>5</td>\n",
       "      <td>0.0</td>\n",
       "      <td>manipulation</td>\n",
       "      <td>0</td>\n",
       "    </tr>\n",
       "    <tr>\n",
       "      <th>6</th>\n",
       "      <td>6</td>\n",
       "      <td>-0.5</td>\n",
       "      <td>manipulation</td>\n",
       "      <td>1</td>\n",
       "    </tr>\n",
       "    <tr>\n",
       "      <th>9</th>\n",
       "      <td>9</td>\n",
       "      <td>-2.0</td>\n",
       "      <td>manipulation</td>\n",
       "      <td>0</td>\n",
       "    </tr>\n",
       "  </tbody>\n",
       "</table>\n",
       "</div>"
      ],
      "text/plain": [
       "   Unnamed: 0  stimulus     condition  response\n",
       "0           0       0.0  manipulation         0\n",
       "1           1      -2.0  manipulation         0\n",
       "5           5       0.0  manipulation         0\n",
       "6           6      -0.5  manipulation         1\n",
       "9           9      -2.0  manipulation         0"
      ]
     },
     "execution_count": 11,
     "metadata": {},
     "output_type": "execute_result"
    }
   ],
   "source": [
    "# get exp data\n",
    "exp_data = pd.read_csv(\"https://raw.githubusercontent.com/bambschool/BAMB2023/main/1-modeling_101/dataset_tutorial1.csv?token=GHSAT0AAAAAACFH2I2TUEKMMHZMREHILHOUZFXCWCA\")\n",
    "exp_data = exp_data[exp_data.condition==\"manipulation\"]\n",
    "exp_data.head()\n"
   ]
  },
  {
   "cell_type": "code",
   "execution_count": 12,
   "id": "c247aee5-1015-4a2f-ab10-fe49c9759c03",
   "metadata": {},
   "outputs": [],
   "source": [
    "# psychometric function: probability of rightward choice\n",
    "def p_model(s, sigma_d, Lambda):\n",
    "    \n",
    "    p = (1-Lambda) * norm.cdf(s/sigma_d) + Lambda/2\n",
    "    return p\n",
    "\n",
    "# Likelihood function\n",
    "def LogLikelihood_modelB(df, sigma_d, Lambda):\n",
    "\n",
    "    # p of rightward choice\n",
    "    p = p_model(df.stimulus, sigma_d, Lambda)\n",
    "    \n",
    "    lh = np.where(df.response==1, p, 1-p)\n",
    "    \n",
    "    # Handle division by zero\n",
    "    lh = np.where(lh == 0, np.finfo(float).eps, lh)\n",
    "    \n",
    "    LLH = np.sum(np.log(lh))\n",
    "    \n",
    "    return LLH\n"
   ]
  },
  {
   "cell_type": "code",
   "execution_count": 13,
   "id": "dcea98ec-3518-4b12-9173-4ae6526533a7",
   "metadata": {},
   "outputs": [],
   "source": [
    "\n",
    "# fit model\n",
    "p_opt = optimize.minimize(lambda pp: -LogLikelihood_modelB(exp_data, pp[0], pp[1]), x0=[0.75, 0.1], bounds=[(0.1, 10), (0.01, 1)]).x\n",
    "\n",
    "# Retrieve the optimized parameters\n",
    "(sigma_d_hat, Lambda_hat) = p_opt\n"
   ]
  },
  {
   "cell_type": "code",
   "execution_count": 14,
   "id": "3bdab152-1c89-4f39-a540-ec69c4a2cbdb",
   "metadata": {},
   "outputs": [
    {
     "data": {
      "image/png": "[encoded data removed]",
      "text/plain": [
       "<Figure size 640x480 with 1 Axes>"
      ]
     },
     "metadata": {},
     "output_type": "display_data"
    }
   ],
   "source": [
    "# plot model predictions\n",
    "s_linspace = np.linspace(-3,3,100)\n",
    "\n",
    "p = p_model(s_linspace, sigma_d_hat, Lambda_hat)\n",
    "\n",
    "# plot fitted psychometric functions\n",
    "plt.plot(s_linspace, p, 'b')\n",
    "\n",
    "# plot datapoints on top\n",
    "exp_data.groupby('stimulus').response.agg(('mean','sem')).plot(yerr='sem', fmt = 'bo', ax=plt.gca(), legend=False);\n"
   ]
  },
  {
   "cell_type": "code",
   "execution_count": null,
   "id": "eccaff6e-ec8c-4de3-a08c-5812e2d1f1a3",
   "metadata": {},
   "outputs": [],
   "source": []
  }
 ],
 "metadata": {
  "kernelspec": {
   "display_name": "Python 3 (ipykernel)",
   "language": "python",
   "name": "python3"
  },
  "language_info": {
   "codemirror_mode": {
    "name": "ipython",
    "version": 3
   },
   "file_extension": ".py",
   "mimetype": "text/x-python",
   "name": "python",
   "nbconvert_exporter": "python",
   "pygments_lexer": "ipython3",
   "version": "3.9.13"
  }
 },
 "nbformat": 4,
 "nbformat_minor": 5
}
