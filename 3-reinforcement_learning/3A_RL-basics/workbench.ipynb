{
 "cells": [
  {
   "cell_type": "markdown",
   "metadata": {},
   "source": [
    "## 0. Structuring your Agents' and Environments' classes\n",
    "\n",
    "In this tutorial, we'll learn how to implement reinforcement learning (RL) agents and environments following the structure of the OpenAI Gym (now Gymnasium by Farama Foundation) API. This standardized approach will help you organize your code and make it easier to extend to more complex environments later. Take a look at the figure below to refresh your memories on how Agents interact with Environments:\n",
    "\n",
    "<div>\n",
    "<img src=\"assets/the-general-framework-of-reinforcement-learning.webp\" width=\"500\">\n",
    "</div>"
   ]
  },
  {
   "cell_type": "markdown",
   "metadata": {},
   "source": [
    "### 0.1. Environment Structure\n",
    "\n",
    "Let's start by looking at the basic structure of an environment. You should always aim to follow the [Gym API](https://github.com/Farama-Foundation/Gymnasium?tab=readme-ov-file#api) for any new tasks you define for your projects. Here's what it looks like:\n",
    "\n",
    "```python\n",
    "class Environment:\n",
    "    def step(self, action) -> tuple:\n",
    "        # Implement the dynamics of the environment\n",
    "        # Returns: next_state, reward, terminated, truncated, info\n",
    "        pass\n",
    "\n",
    "    def reset(self) -> tuple:\n",
    "        # Reset the environment to its initial state\n",
    "        # Returns: initial_state, info\n",
    "        pass\n",
    "```\n",
    "\n",
    "The `step` method is crucial. It takes an action as input and returns four values:\n",
    "\n",
    "- `next_state`: The state of the environment after taking the action\n",
    "- `reward`: The reward received for taking the action\n",
    "- `terminated`: A boolean indicating whether the agent has reached the terminal state\n",
    "- `truncated`: A boolean indicating whether the episode is truncated, e.g. prematurely ended\n",
    "- `info`: A dictionary containing additional information (optional)\n",
    "\n",
    "The `reset` method initializes a new episode and returns the initial state."
   ]
  },
  {
   "cell_type": "markdown",
   "metadata": {},
   "source": [
    "### 0.2. Agent Structure\n",
    "Now, let's look at the basic structure of an agent:\n",
    "\n",
    "\n",
    "```python\n",
    "class Agent:\n",
    "    def __init__(self, action_space, state_space):\n",
    "        self.action_space = action_space\n",
    "        self.state_space = state_space\n",
    "\n",
    "    def act(self, state):\n",
    "        # Implement the agent's policy\n",
    "        # Returns: chosen action\n",
    "        pass\n",
    "\n",
    "    def update(self, state, action, reward, next_state, next_action=None):\n",
    "        # Update the agent's internal parameters\n",
    "        pass\n",
    "```\n",
    "\n",
    "The `act` method implements the agent's policy, deciding which action to take given the current state. The `update` method is used to update the agent's internal parameters based on its experience. As opposed to the `Environment` class where you should follow the `step` and `reset` naming conventions, you can freely choose what you like for the `Agent`. In this course, however, we will follow the convention defined above."
   ]
  },
  {
   "cell_type": "markdown",
   "metadata": {},
   "source": [
    "### 0.3. Training Function\n",
    "\n",
    "To tie everything together, we'll use a training function. This function will run episodes, allowing the agent to interact with the environment and learn from its experiences.\n",
    "\n",
    "```python\n",
    "def train_agent(agent: Agent, env: Environment, num_episodes: int = 100):\n",
    "    # initialize list to collect data (here: only rewards)\n",
    "    reward_history = []\n",
    "\n",
    "    for episode in range(num_episodes):\n",
    "        # fetch state from the environment\n",
    "        state, _ = env.reset()\n",
    "        \n",
    "        # initialize episode's reward and termination conditions\n",
    "        total_reward = 0\n",
    "        done = False\n",
    "\n",
    "        while not done:\n",
    "            # agent acts acc. to its policy given environment's state\n",
    "            action = agent.act(state)\n",
    "\n",
    "            # environment returns next state, reward, and other info\n",
    "            next_state, reward, done, _, info = env.step(action)\n",
    "\n",
    "            # agent uses this info to learn\n",
    "            agent.update(state, action, reward, next_state)\n",
    "\n",
    "            # update state and reward\n",
    "            state = next_state\n",
    "            total_reward += reward\n",
    "        \n",
    "        # when episode ends, record the total reward obtained\n",
    "        reward_history.append(total_reward)\n",
    "\n",
    "    return reward_history\n",
    "```\n",
    "\n",
    "This function does the following:\n",
    "- Runs for a specified number of episodes\n",
    "- For each episode:\n",
    "  - Resets the environment\n",
    "  - Lets the agent choose actions and interact with the environment\n",
    "  - Updates the agent based on the observed transitions\n",
    "  - Keeps track of the total reward for the episode\n",
    "- Returns a history of rewards for each episode"
   ]
  },
  {
   "cell_type": "code",
   "execution_count": 1,
   "metadata": {},
   "outputs": [],
   "source": [
    "# "
   ]
  },
  {
   "cell_type": "markdown",
   "metadata": {},
   "source": [
    "## 1. Implement specific agents\n",
    "\n",
    "In this tutorial, we'll implement three types of agents:\n",
    "- Random Agent: Takes random actions\n",
    "- SARSA Agent: Uses the SARSA (State-Action-Reward-State-Action) algorithm\n",
    "- Q-Learning Agent: Uses the Q-learning algorithm"
   ]
  },
  {
   "cell_type": "code",
   "execution_count": 9,
   "metadata": {},
   "outputs": [],
   "source": [
    "# QLearning Agent\n",
    "import numpy as np\n",
    "\n",
    "class QLearningAgent:\n",
    "    def __init__(self, action_space, state_space) -> None:\n",
    "        # set up q table with correct dimensions\n",
    "        self.action_space = action_space\n",
    "        self.state_space = state_space\n",
    "        self.q_table = np.zeros(state_space + (action_space.n,))\n",
    "\n",
    "        # initialize agent's parameters\n",
    "        self.gamma = 0.99\n",
    "        self.alpha = 0.1\n",
    "        self.epsilon = 1\n",
    "        self.epsilon_decay = self.epsilon / 4_000\n",
    "\n",
    "        # set up a random number generator\n",
    "        self.rng = np.random.default_rng()\n",
    "\n",
    "    def act(self, state) -> int:\n",
    "        if self.rng.random() > self.epsilon:\n",
    "            return np.argmax(self.q_table[state])\n",
    "        else:\n",
    "            return self.rng.integers(0, self.action_space.n)\n",
    "\n",
    "    def update_epsilon(self) -> None:\n",
    "        if self.epsilon - self.epsilon_decay > 0:\n",
    "            self.epsilon -= self.epsilon_decay\n",
    "\n",
    "    def update_q_table(self, state, action, reward, next_state) -> None:\n",
    "        max_future_q = np.max(self.q_table[next_state])\n",
    "        current_q = self.q_table[state][action]\n",
    "        new_q = current_q + self.alpha * (reward + self.gamma * max_future_q - current_q)\n",
    "        self.q_table[state][action] = new_q"
   ]
  },
  {
   "cell_type": "markdown",
   "metadata": {},
   "source": [
    "## 2. Q-Learning in Gym\n",
    "\n",
    "In this section, we will see the power of Q-Learning in slightly more complex environments. \n",
    "\n",
    "### 2.1. The Frozen Lake problem\n",
    "\n",
    "(A simple gridworld which is Gymnasium's \"FrozenLake-v1\". Yet to be implemented.)"
   ]
  },
  {
   "cell_type": "markdown",
   "metadata": {},
   "source": [
    "### 2.2. The Cartpole problem\n",
    "\n",
    "The [CartPole problem](https://gymnasium.farama.org/environments/classic_control/cart_pole/) consists of a pole attached by an un-actuated joint to a cart, which moves along a frictionless one-dimensional track. The pendulum is placed upright on the cart and the goal is to balance the pole by applying forces in the left and right direction on the cart.\n",
    "\n",
    "![CartPole](assets/cart_pole.gif)\n",
    "\n",
    "> NOTE:\n",
    "> To use it with our agent, we need to discretize the state because it is continuous. Don't worry, you don't have to implement that. It's already present in `environments.py`. Feel free to take a look or ignore it."
   ]
  },
  {
   "cell_type": "code",
   "execution_count": 10,
   "metadata": {},
   "outputs": [],
   "source": [
    "from environments import CartPoleEnvironment\n",
    "\n",
    "# Create the environment and agent\n",
    "env = CartPoleEnvironment()\n",
    "agent = QLearningAgent(env.env.action_space, env.observation_shape)"
   ]
  },
  {
   "cell_type": "code",
   "execution_count": 12,
   "metadata": {},
   "outputs": [],
   "source": [
    "# define train_agent function\n",
    "\n",
    "def train_agent(agent, env, num_episodes=6_000):\n",
    "    reward_history = []\n",
    "    early_stop_threshold = 195\n",
    "    early_stop_consecutive = 100\n",
    "    consecutive_solves = 0\n",
    "\n",
    "    for episode in range(num_episodes):\n",
    "        state, _ = env.reset()\n",
    "        total_reward = 0\n",
    "        done = False\n",
    "\n",
    "        # counter = 0\n",
    "\n",
    "        while not done:\n",
    "            action = agent.act(state)\n",
    "            next_state, reward, terminated, truncated, _ = env.step(action)\n",
    "            done = terminated or truncated\n",
    "            \n",
    "            # print(f\"step {counter}: action = {action}, reward = {reward}\")\n",
    "            \n",
    "            agent.update_q_table(state, action, reward, next_state)\n",
    "            \n",
    "            state = next_state\n",
    "            total_reward += reward\n",
    "        \n",
    "        agent.update_epsilon()\n",
    "\n",
    "        reward_history.append(total_reward)\n",
    "        print(f\"Episode {episode} reward: {total_reward}\", end=\"\\r\")\n",
    "\n",
    "        if total_reward >= early_stop_threshold:\n",
    "            consecutive_solves += 1\n",
    "            if consecutive_solves >= early_stop_consecutive:\n",
    "                print(f\"\\nEnvironment solved in {episode+1} episodes!\")\n",
    "                break\n",
    "        else:\n",
    "            consecutive_solves = 0\n",
    "\n",
    "    print(\"\\nTraining completed\")\n",
    "    return reward_history"
   ]
  },
  {
   "cell_type": "code",
   "execution_count": 13,
   "metadata": {},
   "outputs": [
    {
     "name": "stdout",
     "output_type": "stream",
     "text": [
      "Episode 4253 reward: 500.0\n",
      "Environment solved in 4254 episodes!\n",
      "\n",
      "Training completed\n",
      "14.543635845184326\n"
     ]
    }
   ],
   "source": [
    "# Train the agent\n",
    "from time import time\n",
    "\n",
    "start = time()\n",
    "reward_history = train_agent(agent, env, 6_000)\n",
    "print(f\"{time()-start}\")"
   ]
  },
  {
   "cell_type": "code",
   "execution_count": 14,
   "metadata": {},
   "outputs": [
    {
     "data": {
      "image/png": "[encoded data removed]",
      "text/plain": [
       "<Figure size 600x400 with 1 Axes>"
      ]
     },
     "metadata": {},
     "output_type": "display_data"
    }
   ],
   "source": [
    "import matplotlib.pyplot as plt\n",
    "\n",
    "# define helper function for plotting\n",
    "def calculate_moving_average(reward_history, window_size=100):\n",
    "    cumsum = np.cumsum(np.insert(reward_history, 0, 0))\n",
    "    moving_avg = (cumsum[window_size:] - cumsum[:-window_size]) / window_size\n",
    "\n",
    "    # Use the first calculated average for all previous elements\n",
    "    first_avg = moving_avg[0]\n",
    "    padded_avg = np.full(window_size - 1, first_avg)\n",
    "\n",
    "    return np.concatenate([padded_avg, moving_avg])\n",
    "\n",
    "\n",
    "def plot_performance(reward_history):\n",
    "    plt.figure(figsize=(6, 4))\n",
    "    plt.plot(reward_history)\n",
    "    plt.plot(calculate_moving_average(reward_history))\n",
    "    plt.title('CartPole-v1 Performance over Episodes')\n",
    "    plt.xlabel('Episode')\n",
    "    plt.ylabel('Total Reward')\n",
    "    plt.grid(True)\n",
    "    plt.show()\n",
    "\n",
    "plot_performance(reward_history)"
   ]
  },
  {
   "cell_type": "code",
   "execution_count": 7,
   "metadata": {},
   "outputs": [
    {
     "data": {
      "text/plain": [
       "array([ 1.50280248, 23.88935892])"
      ]
     },
     "execution_count": 7,
     "metadata": {},
     "output_type": "execute_result"
    }
   ],
   "source": [
    "agent.q_table[10, 10, 10, 9]"
   ]
  },
  {
   "cell_type": "code",
   "execution_count": null,
   "metadata": {},
   "outputs": [],
   "source": []
  }
 ],
 "metadata": {
  "kernelspec": {
   "display_name": ".venv",
   "language": "python",
   "name": "python3"
  },
  "language_info": {
   "codemirror_mode": {
    "name": "ipython",
    "version": 3
   },
   "file_extension": ".py",
   "mimetype": "text/x-python",
   "name": "python",
   "nbconvert_exporter": "python",
   "pygments_lexer": "ipython3",
   "version": "3.10.12"
  }
 },
 "nbformat": 4,
 "nbformat_minor": 2
}
