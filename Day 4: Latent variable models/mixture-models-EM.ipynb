{
 "cells": [
  {
   "cell_type": "markdown",
   "id": "9610c5f1",
   "metadata": {},
   "source": [
    "# Mixture models and expectation maximization"
   ]
  },
  {
   "cell_type": "code",
   "execution_count": 25,
   "id": "3c881695",
   "metadata": {},
   "outputs": [],
   "source": [
    "import numpy as np\n",
    "import scipy.stats as sps\n",
    "import scipy.optimize as spo\n",
    "\n",
    "import matplotlib.pyplot as plt\n",
    "import seaborn as sns"
   ]
  },
  {
   "cell_type": "markdown",
   "id": "855f34bb",
   "metadata": {},
   "source": [
    "## Tutorial content\n",
    "\n",
    "1. Generative model of a mixture of Gaussians: simulating data\n",
    "2. Fit the mixture model: Implementation of Expectation Maximization algorithm.\n",
    "\n",
    "BONUS: Analytical vs numerical solution and custom mixture models."
   ]
  },
  {
   "cell_type": "markdown",
   "id": "ad9cca9a",
   "metadata": {},
   "source": [
    "# 0. Intro"
   ]
  },
  {
   "cell_type": "markdown",
   "id": "a6fe8dc8",
   "metadata": {},
   "source": [
    "## 0.1. Simulated setup"
   ]
  },
  {
   "attachments": {},
   "cell_type": "markdown",
   "id": "557bf6e7",
   "metadata": {},
   "source": [
    "In this tutorial, we will simulate and model trialwise saccade endpoints in a bandit-like decision making task. Assume that the value of objects fluctuates. Choices are made by making a saccade to one of three objects on a screen.\n",
    "\n",
    "![](https://raw.githubusercontent.com/bambschool/BAMB2025/main/Day_4_latent_variable_models/GMM1.png)\n",
    "\n",
    "We are interested in analyzing trial-by-trial choices. We do not have access to explicit choice data, but only to an array of saccade endpoints $\\boldsymbol{x} \\in \\mathbb{R}^{N x D}$ ($N$: number of trials, $D = 2$ : dimensionality of our data), corresponding to horizontal and vertical positions on the display."
   ]
  },
  {
   "cell_type": "markdown",
   "id": "49f89baf",
   "metadata": {},
   "source": [
    "## 0.2. Mixture of Gaussians"
   ]
  },
  {
   "attachments": {},
   "cell_type": "markdown",
   "id": "28b39238",
   "metadata": {},
   "source": [
    "We assume that saccades are centered on the chosen object. However, eye-tracking data is noisy: Therefore, data is distributed around the center, following a 2D Gaussian for each of the three objects (A).\n",
    "\n",
    "![](https://raw.githubusercontent.com/bambschool/BAMB2025/main/Day_4_latent_variable_models/GMM2.png)\n",
    "\n",
    "The experimenter of course only has access to 'unlabeled' saccades as in (B). The grey density is called a *Gaussian mixture distribution*, which is a weighted sum of the *mixture components* (i.e., the red, yellow, and blue Gaussians in (A)):\n",
    "\n",
    "\\begin{align}\n",
    "p(\\boldsymbol{x}) = \\sum_{k=1}^{K} \\pi_{k} \\mathcal{N}(\\boldsymbol{x} | \\mu_k, \\Sigma_k) \n",
    "\\end{align}<div style=\"text-align: right\"> Eq. (1) </div>\n",
    "\n",
    "means $\\mu_k$ and covariances $\\Sigma_k$ and *mixing coefficients* $\\pi_k$ for each class or component $k$."
   ]
  },
  {
   "cell_type": "markdown",
   "id": "1270c8e4",
   "metadata": {},
   "source": [
    "# 1. The Gaussian mixture model as a generative model"
   ]
  },
  {
   "attachments": {},
   "cell_type": "markdown",
   "id": "327621fc",
   "metadata": {},
   "source": [
    "We can think of the saccade generation as a hierarchical process, with two types of variables:\n",
    "\n",
    "- The unobserved, **latent variable** $\\boldsymbol{z} \\in \\{0,1\\}^{K\\times N}$ indicates the choice with one-hot-coding ($z_{nk} = 1$ if class $k$ in trial $n$, else $0$).\n",
    "- The **observations** $\\boldsymbol{x} \\in \\mathbb{R}^{N\\times D}$, i.e. the 2D saccade endpoints. $\\boldsymbol{x}$ depends on $\\boldsymbol{z}$, reflected by the directed arrow below.\n",
    "\n",
    "![](https://raw.githubusercontent.com/bambschool/BAMB2025/main/Day_4_latent_variable_models/GMM3.png)\n",
    "\n",
    "The full model is given as the joint distribution $p(\\boldsymbol{x,z} | \\theta) = p(\\boldsymbol{x} |\\boldsymbol{z}, \\theta) p(\\boldsymbol{z} | \\theta)$, with parameters $\\theta = \\{\\mu, \\Sigma, \\pi\\}$. Marginalizing out $\\boldsymbol{z}$ leads us back to Eq. (1).: \n",
    "\n",
    "\\begin{align}\n",
    "p(\\boldsymbol{x} | \\theta) = \\sum_Z p(\\boldsymbol{x}, \\boldsymbol{z} | \\theta) = \\sum_Z p(\\boldsymbol{z} | \\theta) p(\\boldsymbol{x} |\\boldsymbol{z}, \\theta) = \\sum_{k=1}^{K} \\pi_{k} \\mathcal{N}(\\boldsymbol{x} | \\mu_k, \\Sigma_k) \n",
    "\\end{align}\n",
    "\n",
    "In our experiment:\n",
    "- the prior $p(z_k | \\theta_k) = \\pi_{k}$ is the average probability of choosing k,\n",
    "- the mean and covariance of the class-conditional distribution $p(\\boldsymbol{x} | z_k=1, \\theta_k) = \\mathcal{N}(\\boldsymbol{x}|\\mu_k, \\Sigma_k)$ depend on the objects' shape and position, and subject-specific variability in saccades.\n",
    "\n",
    "We will now use the generative model to simulate a dataset by randomly sampling $\\boldsymbol{x}$ in $N = 1000$ trials from Eq. 1. We will assume for now that the subject chooses a random object in each trial, only based on prior probabilities $\\pi_k$."
   ]
  },
  {
   "cell_type": "markdown",
   "id": "fe193870",
   "metadata": {},
   "source": [
    "## 1.1. Ground truth parameters"
   ]
  },
  {
   "cell_type": "code",
   "execution_count": 26,
   "id": "1757f6b5",
   "metadata": {},
   "outputs": [],
   "source": [
    "# Hyperparameters\n",
    "N = 1000\n",
    "K = 3\n",
    "D = 2\n",
    "\n",
    "# screen borders\n",
    "borders = np.array([[0,80], [0,60]])\n",
    "\n",
    "# mixing coefficients: one prob. for each class\n",
    "# should sum to 1 so that if each mixture component is a density, \n",
    "# the full mixture distribution is also a density\n",
    "pis = [.2, .35, .45]\n",
    "\n",
    "# mu: 2D for each of three classes\n",
    "mus = [np.array([20,20]), np.array([35,40]), np.array([60,25])]\n",
    "\n",
    "# pick DxD covariance matrices for each class\n",
    "# symmetric with small covariances to ensure they are positive semidefinite\n",
    "sigmas = [20*np.array([[1,-.4],[-.4,1]]), \n",
    "          40*np.array([[.5,0],[0,1]]), \n",
    "          40*np.array([[1,.1],[.1,1]])]\n",
    "\n",
    "# set random seed for reproducibility\n",
    "np.random.seed(0)"
   ]
  },
  {
   "cell_type": "markdown",
   "id": "a85d8ae6",
   "metadata": {},
   "source": [
    "## 1.2. True values of latent variable $\\boldsymbol{z}$"
   ]
  },
  {
   "cell_type": "markdown",
   "id": "44f9e28f",
   "metadata": {},
   "source": [
    "For each trial, simulate true choices. Create\n",
    "- a vector `ks` of length $N$ encoding the classes, i.e. with values in $\\{0,1,2\\}$. Use `np.random.choice()`\n",
    "- `zs`, i.e. the true value of the one-hot-coded latent variable $\\boldsymbol{z} \\in \\{0,1\\}^{K \\times N}$\n",
    "\n",
    "Plot $\\boldsymbol{z}$ for the first 100 trials."
   ]
  },
  {
   "cell_type": "code",
   "execution_count": 27,
   "id": "6afed274",
   "metadata": {},
   "outputs": [],
   "source": [
    "# make vector of true class identities\n",
    "\n",
    "# INPUT NEEDED\n",
    "\n",
    "# make K x N array for true values of z\n",
    "\n",
    "# INPUT NEEDED"
   ]
  },
  {
   "cell_type": "code",
   "execution_count": 28,
   "id": "dbff5c04",
   "metadata": {},
   "outputs": [
    {
     "data": {
      "text/plain": [
       "Text(0.5, 1.0, 'true value of latent variable $z_{nk}$')"
      ]
     },
     "execution_count": 28,
     "metadata": {},
     "output_type": "execute_result"
    },
    {
     "data": {
      "image/png": "[encoded data removed]",
      "text/plain": [
       "<Figure size 1500x200 with 1 Axes>"
      ]
     },
     "metadata": {
      "needs_background": "light"
     },
     "output_type": "display_data"
    }
   ],
   "source": [
    "plt.figure(figsize=(15,2), dpi=100)\n",
    "\n",
    "# INPUT NEEDED\n",
    "\n",
    "plt.ylabel('class k')\n",
    "plt.xlabel('trial n')\n",
    "plt.title(r'true value of latent variable $z_{nk}$')"
   ]
  },
  {
   "cell_type": "markdown",
   "id": "75f46c55",
   "metadata": {},
   "source": [
    "## 1.3. Sample observations $\\boldsymbol{x}$"
   ]
  },
  {
   "cell_type": "markdown",
   "id": "33f03885",
   "metadata": {},
   "source": [
    "Sample $N=1000$ saccades from class-conditional multivariate Gaussians (i.e., using ground truth class-specific `mu` and `sigmas`), using the function `sps.multivariate_normal.rvs()`. Note that in code, it is usually easier to us `ks` as a class index than `zs`.\n",
    "\n",
    "Plot the mixture distribution of saccades by uncommenting the pre-written code."
   ]
  },
  {
   "cell_type": "code",
   "execution_count": 29,
   "id": "9a6a3783",
   "metadata": {},
   "outputs": [],
   "source": [
    "# simulate saccades depending on k_n\n",
    "\n",
    "# INPUT NEEDED"
   ]
  },
  {
   "cell_type": "code",
   "execution_count": 30,
   "id": "ca5d0a7b",
   "metadata": {},
   "outputs": [
    {
     "data": {
      "image/png": "[encoded data removed]",
      "text/plain": [
       "<Figure size 700x300 with 2 Axes>"
      ]
     },
     "metadata": {
      "needs_background": "light"
     },
     "output_type": "display_data"
    }
   ],
   "source": [
    "# plot data\n",
    "colors = ['y', 'r', 'b']\n",
    "\n",
    "plt.figure(figsize=(7,3), dpi=100)\n",
    "plt.subplot(1,2,1)\n",
    "# plt.scatter(saccades[:,0], saccades[:,1], c='k', alpha=.05)\n",
    "# for mi,m in enumerate(mus):\n",
    "#     plt.plot(m[0], m[1], 'o', color=colors[mi], ms=10)\n",
    "plt.xlim(borders[0])\n",
    "plt.ylim(borders[1])\n",
    "plt.xlabel('horizontal position (a.u.)')\n",
    "plt.ylabel('vertical position (a.u.)')\n",
    "plt.title('observed')\n",
    "\n",
    "plt.subplot(1,2,2)\n",
    "# plt.scatter(saccades[:,0], saccades[:,1], \n",
    "#             c=[colors[k] for k in ks], alpha=.05)\n",
    "# for mi,m in enumerate(mus):\n",
    "#     plt.plot(m[0], m[1], 'o', color=colors[mi], ms=10)\n",
    "plt.xlim(borders[0])\n",
    "plt.ylim(borders[1])\n",
    "plt.xlabel('horizontal position (a.u.)')\n",
    "plt.ylabel('vertical position (a.u.)')\n",
    "plt.title('true')\n",
    "plt.tight_layout()"
   ]
  },
  {
   "cell_type": "markdown",
   "id": "f7aad23f",
   "metadata": {},
   "source": [
    "# 2. Fitting Gaussian mixture models"
   ]
  },
  {
   "cell_type": "markdown",
   "id": "e4390124",
   "metadata": {},
   "source": [
    "We now treat the ground truth as if it were a real dataset: We pretend we only have access to observations $\\boldsymbol{x}$. Based on the data, we will infer:\n",
    "\n",
    "- the values of latent variable $\\boldsymbol{z_n}$ for each observation $x_n$\n",
    "- parameters $\\theta_k = \\{\\mu_k, \\Sigma_k, \\pi_k$\\} for each component $k$\n",
    "\n",
    "Importantly, we cannot infer these parameters and variables independently of each other (they are connected in the graph!). *Iterative algorithms* like **expectation maximization (EM)** solve this problem by dividing it into two sub-problems."
   ]
  },
  {
   "cell_type": "markdown",
   "id": "d34bfd09",
   "metadata": {},
   "source": [
    "<div class=\"alert alert-block alert-info\"> <b>The expectation maximization (EM) algorithm</b> \n",
    "\n",
    "EM iteratively estimates 1) the posterior over latent variables and 2) the optimal model parameters. The steps are:\n",
    "\n",
    "\n",
    "0. **Initialization**: Choose parameters $\\theta^{0}$ for iteration $i = 0$.\n",
    "1. **E step: Best guess for values of the latent variable $\\boldsymbol{z}$.** \\\n",
    "   We calculate the *posterior probabilities* $p(\\boldsymbol{z} | \\boldsymbol{x}, \\theta^i) \\in [0,1]^{N,K}$ of data point $n$ belonging to class $k$, after having seen the data.\n",
    "2. **M step: Update parameters $\\boldsymbol{\\theta}^{i+1}$ by maximizing the likelihood.** \\\n",
    "   To find new parameters  $\\theta^{i+1}$, we should maximize the *complete-data log likelihood* $\\ln p(\\boldsymbol{x},\\boldsymbol{z} | \\theta)$ of our model. However, we don't know the values of $\\boldsymbol{z}$. As a workaround, we will maximize the *expected complete-data log likelihood* under the posterior $p(\\boldsymbol{z} | \\boldsymbol{x}, \\theta^{i})$:\n",
    "   \n",
    "   \\begin{align}\n",
    "   \\mathbb{E}_{\\boldsymbol{z}}[\\ln p(\\boldsymbol{x}, \\boldsymbol{z}| \\theta)] &= \\sum_Z p(\\boldsymbol{z} | \\boldsymbol{x}, \\theta^{i}) \\ln p(\\boldsymbol{x}, \\boldsymbol{z}| \\theta)\n",
    "   \\end{align}\n",
    "\n",
    "Alternate E and M steps until the log likelihood converges. Run the algorithm several times with distinct initializations (0.) and pick the model with the highest log likelihood.\n",
    "    \n",
    "</div>"
   ]
  },
  {
   "cell_type": "markdown",
   "id": "80902d2b",
   "metadata": {},
   "source": [
    "## 2.1. Initialization\n",
    "\n",
    "In the Gaussian mixture model, $\\theta_k = \\{\\mu_k,\\Sigma_k, \\pi_k\\}$.\n",
    "\n",
    "Write a function that randomly initializes parameters (within certain bounds, i.e. screen boundaries for $\\mu$. For $\\Sigma$, we choose positive diagonal entries and off-diagonal entries that are zero). \n",
    "\n",
    "Plot the resulting mixture distribution by evaluating the joint distribution (Eq. 1) at uniformly spaced values of $x$ (pre-coded as `vals`). Remember that $\\mathcal{N}(x; \\mu, \\Sigma)$ can be evaluated by calling `sps.multivariate_normal.pdf(x, mu, sigma)`."
   ]
  },
  {
   "cell_type": "code",
   "execution_count": 31,
   "id": "94c865d8",
   "metadata": {},
   "outputs": [],
   "source": [
    "# function to initialize the GMM\n",
    "def initialize_GMM(K, D, lower, higher, seed):\n",
    "    \n",
    "    np.random.seed(seed)\n",
    "    # initialize means to random integers\n",
    "    # INPUT NEEDED\n",
    "    \n",
    "    # initialize covariance to random integer on diagonal, 0 off-diagonal\n",
    "    s = np.array([np.eye(D)*np.random.randint(low=np.max(higher)/4, high=np.max(higher)) \n",
    "                  for i in range(3)])\n",
    "    \n",
    "    # pick random numbers for pi that sum to 1\n",
    "    # INPUT NEEDED\n",
    "    \n",
    "    return m, s, p"
   ]
  },
  {
   "cell_type": "code",
   "execution_count": 32,
   "id": "afb46c2e",
   "metadata": {},
   "outputs": [],
   "source": [
    "# pick random means, covariances, and mixing coefficients by calling above function\n",
    "\n",
    "# INPUT NEEDED"
   ]
  },
  {
   "cell_type": "code",
   "execution_count": 33,
   "id": "4c4851af",
   "metadata": {},
   "outputs": [
    {
     "data": {
      "image/png": "[encoded data removed]",
      "text/plain": [
       "<Figure size 700x300 with 2 Axes>"
      ]
     },
     "metadata": {
      "needs_background": "light"
     },
     "output_type": "display_data"
    }
   ],
   "source": [
    "# plot initial means and covariances, as well as initial mixture distribution\n",
    "\n",
    "# make 2D meshgrid\n",
    "x, y = np.mgrid[0:80:1, 0:60:1]\n",
    "vals = np.dstack((x, y))\n",
    "\n",
    "# evaluate pdfs at 'vals'\n",
    "\n",
    "# sum weighted pdfs for mixture distribution\n",
    "\n",
    "plt.figure(figsize=(7,3), dpi=100)\n",
    "plt.subplot(1,2,1)\n",
    "# for k,pdf in enumerate(pdfs):\n",
    "#     plt.contour(pdf.T, colors=colors[k])\n",
    "plt.title('mixture components')\n",
    "plt.xlabel('horizontal position (a.u.)')\n",
    "plt.ylabel('vertical position (a.u.)')\n",
    "\n",
    "plt.subplot(1,2,2)\n",
    "# plt.contourf(mixture_pdf.T, cmap='magma')\n",
    "plt.title('mixture distribution')\n",
    "plt.xlabel('horizontal position (a.u.)')\n",
    "plt.ylabel('vertical position (a.u.)')\n",
    "plt.tight_layout()"
   ]
  },
  {
   "cell_type": "markdown",
   "id": "f3c35cb7",
   "metadata": {},
   "source": [
    "## 2.2. E Step\n",
    "\n",
    "Given the parameters at iteration $i$, $\\theta^{i}$, and observations $\\boldsymbol{x}$, what is the posterior distribution $p(\\boldsymbol{z} | \\boldsymbol{x}, \\theta^i)$?\n",
    "\n",
    "<div class=\"alert alert-block alert-info\"> <b>Calculating the posterior</b> \n",
    "    \n",
    "Following Bayes theorem, we can write the posterior as:\n",
    "\n",
    "\\begin{align}\n",
    "p(\\boldsymbol{z}|\\boldsymbol{x},\\theta) &= \\frac{p(\\boldsymbol{x}|\\boldsymbol{z}, \\theta) p(\\boldsymbol{z} |\\theta)}{p(\\boldsymbol{x} | \\theta)} \n",
    "                = \\frac{p(\\boldsymbol{x}|\\boldsymbol{z}, \\theta) p(\\boldsymbol{z} |\\theta)}{\\sum_Z p(\\boldsymbol{x}, \\boldsymbol{z} | \\theta)} \n",
    "                = \\frac{p(\\boldsymbol{x}|\\boldsymbol{z}, \\theta) p(\\boldsymbol{z} |\\theta)}{\\sum_Z p(\\boldsymbol{x} | \\boldsymbol{z}, \\theta) p(\\boldsymbol{z} |\\theta)}\n",
    "\\end{align}\n",
    "\n",
    "</div>\n",
    "\n",
    "For Gaussian mixtures, this translates to calculating the probability $p(z_{nk}=1|\\boldsymbol{x}_n, \\theta^{i})$ that observation $x_n$ in trial $n$ was sampled from distribution $k$ with parameters $\\theta_k^{i} = \\{\\mu_k^i, \\Sigma_k^i, \\pi_k^i\\}$ for iteration $i$. These probabilities are called the *responsibilities* $\\gamma_{nk}$. \n",
    "\n",
    "\\begin{align}\n",
    "\\gamma_{nk} = p(z_{nk}=1|\\boldsymbol{x}_n, \\theta)\n",
    "            = \\frac{\\pi_k\\mathcal{N}(\\boldsymbol{x}_n|\\mu_k, \\Sigma_k)}{\\sum^K_{j=1}\\pi_j\\mathcal{N}(\\boldsymbol{x}_n|\\mu_j, \\Sigma_j)} \n",
    "\\end{align}<div style=\"text-align: right\"> Eq. (2) </div>\n",
    "\n",
    "Write a function `GMM_estep(x, mu, sigma, pi)` that implements Eq. (2) to compute the responsibilities $\\gamma_{nk}$."
   ]
  },
  {
   "cell_type": "code",
   "execution_count": 34,
   "id": "ac4726c0",
   "metadata": {},
   "outputs": [],
   "source": [
    "def GMM_estep(data, m, s, p):\n",
    "    K = m.shape[0]\n",
    "    \n",
    "    # joint p(x,z) = p(z)*p(x|z): prior * likelihood (evaluate pdf at each x_n). Should be K x N shaped\n",
    "    # INPUT NEEDED\n",
    "    \n",
    "    # marginal likelihood p(x) = sum_z( p(x,z) ) sum joint over K classes. vector of length N\n",
    "    # INPUT NEEDED    \n",
    "    \n",
    "    # posterior: p(x,z) / p(x)\n",
    "    # INPUT NEEDED\n",
    "\n",
    "    return posterior"
   ]
  },
  {
   "cell_type": "code",
   "execution_count": 35,
   "id": "e54bd5b1",
   "metadata": {},
   "outputs": [],
   "source": [
    "# calculate gammas (call E Step)\n",
    "\n",
    "# INPUT NEEDED"
   ]
  },
  {
   "cell_type": "code",
   "execution_count": 36,
   "id": "3183e695",
   "metadata": {},
   "outputs": [
    {
     "data": {
      "text/plain": [
       "Text(0.5, 1.0, 'posterior probabilities $\\\\gamma_{nk}$')"
      ]
     },
     "execution_count": 36,
     "metadata": {},
     "output_type": "execute_result"
    },
    {
     "data": {
      "image/png": "[encoded data removed]",
      "text/plain": [
       "<Figure size 1500x200 with 1 Axes>"
      ]
     },
     "metadata": {
      "needs_background": "light"
     },
     "output_type": "display_data"
    },
    {
     "data": {
      "image/png": "[encoded data removed]",
      "text/plain": [
       "<Figure size 1500x200 with 1 Axes>"
      ]
     },
     "metadata": {
      "needs_background": "light"
     },
     "output_type": "display_data"
    }
   ],
   "source": [
    "# plot\n",
    "plt.figure(figsize=(15,2), dpi=100)\n",
    "# plt.imshow(zs[:,:100], aspect='auto', interpolation='none', cmap='magma')\n",
    "# plt.colorbar()\n",
    "plt.ylabel('class k')\n",
    "plt.xlabel('trial n')\n",
    "plt.title(r'true value of latent variable $z_{nk}$')\n",
    "\n",
    "plt.figure(figsize=(15,2), dpi=100)\n",
    "# plt.imshow(gammas[:,:100], aspect='auto', interpolation='none', cmap='magma')\n",
    "# plt.colorbar()\n",
    "plt.ylabel('class k')\n",
    "plt.xlabel('trial n')\n",
    "plt.title(r'posterior probabilities $\\gamma_{nk}$')"
   ]
  },
  {
   "cell_type": "markdown",
   "id": "fdb81f87",
   "metadata": {},
   "source": [
    "You will see that while $z_n \\in \\{ 0, 1\\}$ is binary and one-hot encoded, $\\gamma_n \\in [0,1]$ containts floating-point numbers. Both are distributions (elements sum to 1 for each trial). Technically, we have $n$ true and posterior distributions over the latent variable."
   ]
  },
  {
   "cell_type": "markdown",
   "id": "390ef3e5",
   "metadata": {},
   "source": [
    "## 2.3. Complete-data log likelihood\n",
    "\n",
    "We will now calculate the expected complete-data log likelihood $\\mathbb{E}_{\\boldsymbol{z}}[\\ln p(\\boldsymbol{x}, \\boldsymbol{z}| \\theta)]$ under the posterior $p(\\boldsymbol{z} | \\boldsymbol{x}, \\boldsymbol{\\theta}^{i})$:\n",
    "\n",
    "<div class=\"alert alert-block alert-info\"> <b>Expected complete-data log likelihood</b> \n",
    "\n",
    "\\begin{align}\n",
    "  \\mathbb{E}_{\\boldsymbol{z}}[\\ln p(\\boldsymbol{x}, \\boldsymbol{z}| \\theta)] &= \\sum_Z p(\\boldsymbol{z} | \\boldsymbol{x}, \\theta^{i}) \\ln p(\\boldsymbol{x}, \\boldsymbol{z}| \\theta) \\\\\n",
    "   &= \\sum_Z p(\\boldsymbol{z} | \\boldsymbol{x}, \\theta^{i}) \\ln \\{ p(\\boldsymbol{x} | \\boldsymbol{z}, \\theta) p(\\boldsymbol{z} | \\theta) \\}\n",
    "   \\end{align}\n",
    "\n",
    "</div>\n",
    "<div style=\"text-align: right\"> Eq. (3) </div>\n",
    "\n",
    "We will plug in the posterior $\\gamma_{nk} = p(z_{nk} = 1 | \\boldsymbol{x}_n, \\theta^i_k)$ calculated in the E Step. Moreover, as before, $p(z_{nk} = 1 | \\theta_k) = \\pi_k$ and $p(\\boldsymbol{x}_n | z_{nk} = 1, \\theta_k) = \\mathcal{N}(\\boldsymbol{x}_n ; \\mu_k, \\Sigma_k)$. "
   ]
  },
  {
   "cell_type": "markdown",
   "id": "11fcab60",
   "metadata": {},
   "source": [
    "Write a function that takes the data, $\\gamma$, and parameters $\\theta^{i}$ and computes the expected log likelihood given by Eq. (3). To get back a scalar, sum the log likelihood over all datapoints after summing over classes.\n",
    "\n",
    "*Tip*: If calculating log probabilities gives you `-inf`, you can use the numerically stable `sps.multivariate_normal.logpdf()` instead of `np.log(multivariate_normal.pdf()`.\n",
    "\n",
    "To further avoid problems with numerical instability, set `allow_singular=True` when evaluating the pdf."
   ]
  },
  {
   "cell_type": "code",
   "execution_count": 37,
   "id": "cc8a0042",
   "metadata": {},
   "outputs": [],
   "source": [
    "# log likelihood function\n",
    "def GMM_log_LL(data, gammas, m, s, p):\n",
    "    K = len(m)\n",
    "    \n",
    "    # first: evaluate log LL p(x|z), i.e. evaluate the pdf for each of the K components. Should be K x N shaped\n",
    "\n",
    "    # INPUT NEEDED\n",
    "    \n",
    "    # multiply LL by prior and take log: log (p(x|z) * p(z)) . Still K x N shaped\n",
    "    # then: multiply by gammas, E[z] * log (p(x|z) * p(z)) . also K x N shaped\n",
    "    \n",
    "    # INPUT NEEDED\n",
    "    \n",
    "    # sum whole expression over K\n",
    "    \n",
    "    # INPUT NEEDED\n",
    "    \n",
    "    # sum log likelihood of N single data points\n",
    "    \n",
    "    # INPUT NEEDED\n",
    "    \n",
    "    return LL"
   ]
  },
  {
   "cell_type": "code",
   "execution_count": 38,
   "id": "d7dad14a",
   "metadata": {},
   "outputs": [],
   "source": [
    "# call LL function to evaluate\n",
    "\n",
    "# INPUT NEEDED"
   ]
  },
  {
   "cell_type": "markdown",
   "id": "f96805d8",
   "metadata": {},
   "source": [
    "## 2.4. M Step\n",
    "\n",
    "The M-step consists of estimating $\\theta^{i+1} = \\{\\mu^{i+1}, \\Sigma^{i+1}, \\pi^{i+1}\\}$ that maximize this log likelihood function. We could tackle this parameter optimization problem by calling `spo.minimize()`, where our loss function would be the negative log likelihood, and our parameter vector a concatenation of all values in `mu, sigma` and `pis` (see BONUS for an implementation). However, mixtures of Gaussians allow for faster and more robust parameter updates with the analytical ('closed-form') solution.\n",
    "\n",
    "To maximize the expected complete-data log likelihood $\\mathbb{E}_{\\boldsymbol{z}}[\\ln p(\\boldsymbol{x}, \\boldsymbol{z}| \\theta)]$, we set its derivative w.r.t. $\\mu_k$, $\\Sigma_k$, or $\\pi_k$ to zero. We solve and get:\n",
    "\n",
    "\\begin{align}\n",
    "\\mu_k  &= \\frac{1}{N_k} \\sum^N_{n=1} \\gamma_{nk} x_n \\\\\n",
    "\\Sigma_k &=  \\frac{1}{N_k} \\sum^N_{n=1} \\gamma_{nk} (x_n-\\mu_k)(x_n-\\mu_k)^T \\\\\n",
    "\\pi_k &= \\frac{N_k}{N}\n",
    "\\end{align}<div style=\"text-align: right\"> Eq. (4-6) </div>\n",
    "\n",
    "\n",
    "where $N_k$ is defined as $N_k = \\sum^N_{n=1} \\gamma_{nk}$. Write a function to update the parameters using Eqs. (4-6)."
   ]
  },
  {
   "cell_type": "code",
   "execution_count": 39,
   "id": "73b814d1",
   "metadata": {},
   "outputs": [],
   "source": [
    "def GMM_mstep(data, g):\n",
    "    K = g.shape[0]\n",
    "    N = g.shape[1]\n",
    "    D = data.shape[-1]\n",
    "\n",
    "    # class-specific normalization constant: sum gammas over N\n",
    "    \n",
    "    # INPUT NEEDED\n",
    "    \n",
    "    # mu: weight each of N data points by its gamma, then sum over N and normalize with N_k\n",
    "\n",
    "    # INPUT NEEDED\n",
    "    \n",
    "    # Sigma: K covariances of shape D x D\n",
    "    s = np.zeros([K,D,D]) * np.nan\n",
    "    \n",
    "        # for each class k and each sample n, \n",
    "        # take the dot product (x_n - mu_k) @ (x_n - mu_k).T\n",
    "        # sum over N\n",
    "\n",
    "        # INPUT NEEDED\n",
    "        \n",
    "    # pi\n",
    "        \n",
    "    # INPUT NEEDED\n",
    "    \n",
    "    return m, s, p"
   ]
  },
  {
   "cell_type": "code",
   "execution_count": 40,
   "id": "b613ee8c",
   "metadata": {
    "scrolled": true
   },
   "outputs": [],
   "source": [
    "# update mu, sigma, and pi parameters\n",
    "\n",
    "# INPUT NEEDED"
   ]
  },
  {
   "cell_type": "markdown",
   "id": "89454c04",
   "metadata": {},
   "source": [
    "## 2.5. full EM algorithm\n",
    "\n",
    "Write a loop that alternates E and M steps for 50 iterations. Repeat the algorithm for five different random initializations. \n",
    "\n",
    "Evaluate the expected complete-deta log likelihood at each iteration and plot the progress of log likelihoods over iterations for each initialization."
   ]
  },
  {
   "cell_type": "code",
   "execution_count": 41,
   "id": "958d9cd8",
   "metadata": {},
   "outputs": [],
   "source": [
    "# save parameters and likelihoods\n",
    "model = []\n",
    "LLs = []\n",
    "\n",
    "# several random initializations\n",
    "\n",
    "    # INPUT NEEDED\n",
    "    \n",
    "    # pick random means, covariances, and mixing coefficients\n",
    "\n",
    "    # INPUT NEEDED\n",
    "    \n",
    "    # single E step to evaluate initial LL\n",
    "\n",
    "    # INPUT NEEDED\n",
    "    \n",
    "    # iterate 50 times\n",
    "    \n",
    "    # INPUT NEEDED\n",
    "    \n",
    "        # E Step\n",
    "        \n",
    "        # INPUT NEEDED\n",
    "        \n",
    "        # M Step\n",
    "\n",
    "        # INPUT NEEDED        \n",
    "        \n",
    "        # Likelihood\n",
    "        \n",
    "        # INPUT NEEDED"
   ]
  },
  {
   "cell_type": "code",
   "execution_count": 42,
   "id": "54bfbcae",
   "metadata": {
    "scrolled": true
   },
   "outputs": [
    {
     "data": {
      "image/png": "[encoded data removed]",
      "text/plain": [
       "<Figure size 900x300 with 2 Axes>"
      ]
     },
     "metadata": {
      "needs_background": "light"
     },
     "output_type": "display_data"
    }
   ],
   "source": [
    "# plot log likelihoods for all random initializations to check if model converged\n",
    "plt.figure(figsize=(9,3), dpi=100)\n",
    "plt.subplot(1,2,1)\n",
    "\n",
    "# plot LL\n",
    "# INPUT NEEDED\n",
    "\n",
    "plt.xlabel('iterations')\n",
    "plt.ylabel('total log likelihood')\n",
    "plt.xlim(0,50)\n",
    "\n",
    "# same thing zoomed-in \n",
    "plt.subplot(1,2,2)\n",
    "\n",
    "# plot LL \n",
    "# INPUT NEEDED\n",
    "\n",
    "plt.xlabel('iterations')\n",
    "plt.ylabel('total log likelihood')\n",
    "plt.xlim(0,50)\n",
    "plt.ylim(-9000, -7000)\n",
    "plt.tight_layout()"
   ]
  },
  {
   "cell_type": "markdown",
   "id": "866343b6",
   "metadata": {},
   "source": [
    "## 2.6. Model validation"
   ]
  },
  {
   "cell_type": "markdown",
   "id": "bb6008c2",
   "metadata": {},
   "source": [
    "Select the model with the highest final log likelihood. Plot true vs. estimated densities of single mixture components, as well as the full mixture distribution."
   ]
  },
  {
   "cell_type": "code",
   "execution_count": 43,
   "id": "50c19edd",
   "metadata": {},
   "outputs": [],
   "source": [
    "# select best model\n",
    "\n",
    "# INPUT NEEDED"
   ]
  },
  {
   "cell_type": "code",
   "execution_count": 44,
   "id": "1f84b532",
   "metadata": {},
   "outputs": [
    {
     "data": {
      "text/plain": [
       "Text(0.5, 1.0, 'posterior $\\\\gamma_{nk}$')"
      ]
     },
     "execution_count": 44,
     "metadata": {},
     "output_type": "execute_result"
    },
    {
     "data": {
      "image/png": "[encoded data removed]",
      "text/plain": [
       "<Figure size 1500x200 with 1 Axes>"
      ]
     },
     "metadata": {
      "needs_background": "light"
     },
     "output_type": "display_data"
    },
    {
     "data": {
      "image/png": "[encoded data removed]",
      "text/plain": [
       "<Figure size 1500x200 with 1 Axes>"
      ]
     },
     "metadata": {
      "needs_background": "light"
     },
     "output_type": "display_data"
    }
   ],
   "source": [
    "# plot true values of z (first 100 trials) and posterior probabilities (first 100 trials)\n",
    "\n",
    "plt.figure(figsize=(15,2), dpi=100)\n",
    "# plt.imshow(zs[:,:100], aspect='auto', interpolation='none', cmap='magma')\n",
    "# plt.colorbar()\n",
    "plt.ylabel('class k')\n",
    "plt.xlabel('trial n')\n",
    "plt.title(r'true value of latent variable $z_{nk}$')\n",
    "\n",
    "plt.figure(figsize=(15,2), dpi=100)\n",
    "# plt.imshow(g[:,:100], aspect='auto', interpolation='none', cmap='magma')\n",
    "# plt.colorbar()\n",
    "plt.ylabel('class k')\n",
    "plt.xlabel('trial n')\n",
    "plt.title(r'posterior $\\gamma_{nk}$')"
   ]
  },
  {
   "cell_type": "code",
   "execution_count": 45,
   "id": "b0537d5e",
   "metadata": {},
   "outputs": [
    {
     "data": {
      "image/png": "[encoded data removed]",
      "text/plain": [
       "<Figure size 1000x300 with 3 Axes>"
      ]
     },
     "metadata": {
      "needs_background": "light"
     },
     "output_type": "display_data"
    }
   ],
   "source": [
    "# plot final means and covariances, as well as final mixture distribution\n",
    "\n",
    "# make 2D meshgrid\n",
    "x, y = np.mgrid[0:80:1, 0:60:1]\n",
    "vals = np.dstack((x, y))\n",
    "\n",
    "# evaluate pdfs\n",
    "\n",
    "# INPUT NEEDED\n",
    "\n",
    "# sum weighted pdfs for mixture distribution\n",
    "# INPUT NEEDED\n",
    "\n",
    "# true pdfs\n",
    "# INPUT NEEDED\n",
    "\n",
    "plt.figure(figsize=(10,3), dpi=100)\n",
    "plt.subplot(1,3,1)\n",
    "# for k,pdf in enumerate(pdfs_true):\n",
    "#     plt.contour(pdf.T, colors=colors[k])\n",
    "plt.title('mixture components (true)')\n",
    "plt.xlabel('horizontal position (a.u.)')\n",
    "plt.ylabel('vertical position (a.u.)')\n",
    "\n",
    "plt.subplot(1,3,2)\n",
    "# for k,pdf in enumerate(pdfs):\n",
    "#     plt.contour(pdf.T, colors=colors[k])\n",
    "plt.title('mixture components (estimated)')\n",
    "plt.xlabel('horizontal position (a.u.)')\n",
    "plt.ylabel('vertical position (a.u.)')\n",
    "\n",
    "plt.subplot(1,3,3)\n",
    "# plt.contourf(mixture_pdf.T, cmap='magma')\n",
    "plt.title('mixture distribution (estimated)')\n",
    "plt.xlabel('horizontal position (a.u.)')\n",
    "plt.ylabel('vertical position (a.u.)')\n",
    "plt.tight_layout()"
   ]
  },
  {
   "attachments": {},
   "cell_type": "markdown",
   "id": "276a54ea",
   "metadata": {},
   "source": [
    "![](https://raw.githubusercontent.com/bambschool/BAMB2025/main/Day_4_latent_variable_models/end.png)"
   ]
  },
  {
   "cell_type": "markdown",
   "id": "b69c280a",
   "metadata": {},
   "source": [
    "## What to do if there's no analytical solution (or we don't want to derive it)?"
   ]
  },
  {
   "cell_type": "markdown",
   "id": "58db6356",
   "metadata": {},
   "source": [
    "In the maximization step, we updated parameters to the maximum likelihood solution, which is obtained by setting the derivative of the log likelihood function $\\mathbb{E}_{\\boldsymbol{z}}[\\ln p(\\boldsymbol{x}, \\boldsymbol{z}| \\theta)]$ w.r.t. each parameter to zero and solving for the parameter of interest.\n",
    "\n",
    "However, we could also use a less elegant, but sometimes more practical solution, where parameters are optimized numerically with `spo.minimize()` or similar methods. In the following, you can see an alternative implementation of the M-step. Note that parameter bounds help in finding stable solutions.\n",
    "\n",
    "Numerical solutions are more flexible and can be used when it is difficult to obtain closed-form solutions."
   ]
  },
  {
   "cell_type": "code",
   "execution_count": 46,
   "id": "62d0fdc9",
   "metadata": {},
   "outputs": [],
   "source": [
    "def neg_log_LL(pars, data, g, p, D, K):\n",
    "    \n",
    "    # reconstruct K x D array of means\n",
    "    m = pars[:K*D].reshape(K,D)\n",
    "    \n",
    "    # reconstruct K x D x D array of parameters for covariance matrix\n",
    "    # Cholesky decomposition: to ensure symmetric positive definite covariance matrix, \n",
    "    # we decompose Sigma = LL^T\n",
    "    # where L = [a, 0]\n",
    "    #           [b, c]     with a and c positive\n",
    "    # L is a lower triangular matrix with parameters L_tril = a,b,c\n",
    "    L_tril = pars[K*D:].reshape(K,-1)\n",
    "\n",
    "    s = np.zeros([K,D,D]) * np.nan\n",
    "    \n",
    "    for k in range(K):\n",
    "        L = np.zeros([D,D])\n",
    "        L[np.tril_indices(D)] = L_tril[k]\n",
    "        s[k] = L@L.T\n",
    "\n",
    "    nlogLL = -GMM_log_LL(data, g, m, s, p)\n",
    "    \n",
    "    return nlogLL\n",
    "\n",
    "\n",
    "def GMM_numerical_mstep(data, g, m, s, p):\n",
    "  \n",
    "    K = m.shape[0]\n",
    "    D = m.shape[1]\n",
    "\n",
    "    # update pis\n",
    "    p = np.mean(g, axis=1)\n",
    "    \n",
    "    m_reshape = m.reshape(-1)\n",
    "    \n",
    "    # for Sigma, we will use the Cholesky decomposition to ensure symmetry and positive definiteness\n",
    "    # we decompose Sigma = LL^T\n",
    "    # where L = [a, 0]\n",
    "    #           [b, c]     with a and c positive\n",
    "\n",
    "    # s_tril are parameters a,b,c\n",
    "    L_tril = np.array([s[k][np.tril_indices(D)] for k in range(K)])\n",
    "    L_reshape = L_tril.reshape(-1)\n",
    "    \n",
    "    x_start = np.concatenate([m_reshape, \n",
    "                              L_reshape])\n",
    "    \n",
    "    # set reasonable bounds\n",
    "    bds = np.concatenate([\n",
    "                          [(0,100)]*len(m_reshape), # bounds on mean for dim1 and dim2\n",
    "                          [(1,10), (-10,10), (1,10)]*K # a,b,c for L in Sigma = LL^T\n",
    "                          ])\n",
    "    \n",
    "    # call spo.minimize() on negative LL\n",
    "    res = spo.minimize(neg_log_LL, \n",
    "                       x0=x_start, bounds=bds, \n",
    "                       args=(data, g, p, D, K),\n",
    "                       method='L-BFGS-B') #'SLSQP')\n",
    "    \n",
    "    newpars = res.x\n",
    "    \n",
    "    # reconstruct K x D array of means\n",
    "    m = newpars[:int(K*D)].reshape(K,D)\n",
    "    \n",
    "    # reconstruct K x D x D array of covariance matrices\n",
    "    L_tril = newpars[K*D:].reshape(K,-1)\n",
    "    \n",
    "    s = np.zeros([K,D,D]) * np.nan\n",
    "    \n",
    "    for k in range(K):\n",
    "        # Cholesky decomposition: to ensure symmetric positive definite covariance matrix, \n",
    "        # we decompose Sigma = LL^T\n",
    "        # where L = [a, 0]\n",
    "        #           [b, c]     with a and c positive\n",
    "        L = np.zeros([D,D])\n",
    "        L[np.tril_indices(D)] = L_tril[k]\n",
    "        s[k] = L@L.T\n",
    "\n",
    "    return m, s, p"
   ]
  },
  {
   "cell_type": "code",
   "execution_count": 47,
   "id": "b24a46c7",
   "metadata": {},
   "outputs": [],
   "source": [
    "model = []\n",
    "LLs = []\n",
    "\n",
    "# # several random initializations\n",
    "# for init in range(5):\n",
    "\n",
    "#     # pick random means, covariances, and mixing coefficients\n",
    "\n",
    "#     # initial E step to evaluate LL\n",
    "\n",
    "#     # iterate 50 times\n",
    "\n"
   ]
  },
  {
   "cell_type": "code",
   "execution_count": 48,
   "id": "b56450d1",
   "metadata": {
    "scrolled": true
   },
   "outputs": [
    {
     "data": {
      "image/png": "[encoded data removed]",
      "text/plain": [
       "<Figure size 900x300 with 2 Axes>"
      ]
     },
     "metadata": {
      "needs_background": "light"
     },
     "output_type": "display_data"
    }
   ],
   "source": [
    "# plot log likelihoods for all random initializations to check if model converged\n",
    "plt.figure(figsize=(9,3), dpi=100)\n",
    "plt.subplot(1,2,1)\n",
    "# plt.plot(np.array(LLs).T, 'k-', alpha=.2)\n",
    "plt.xlabel('iterations')\n",
    "plt.ylabel('total log likelihood')\n",
    "plt.xlim(0,50)\n",
    "plt.subplot(1,2,2)\n",
    "# plt.plot(np.array(LLs).T, 'k-', alpha=.2)\n",
    "plt.xlabel('iterations')\n",
    "plt.ylabel('total log likelihood')\n",
    "plt.xlim(0,50)\n",
    "plt.ylim(-9000, -7000)\n",
    "plt.tight_layout()"
   ]
  },
  {
   "cell_type": "code",
   "execution_count": 49,
   "id": "00928fa4",
   "metadata": {},
   "outputs": [],
   "source": [
    "# select best model\n"
   ]
  },
  {
   "cell_type": "code",
   "execution_count": 50,
   "id": "c4ad9fdf",
   "metadata": {},
   "outputs": [
    {
     "data": {
      "image/png": "[encoded data removed]",
      "text/plain": [
       "<Figure size 1000x300 with 3 Axes>"
      ]
     },
     "metadata": {
      "needs_background": "light"
     },
     "output_type": "display_data"
    }
   ],
   "source": [
    "# plot initial means and covariances, as well as initial mixture distribution\n",
    "\n",
    "# make 2D meshgrid\n",
    "x, y = np.mgrid[0:80:1, 0:60:1]\n",
    "vals = np.dstack((x, y))\n",
    "\n",
    "# evaluate pdfs\n",
    "\n",
    "# sum weighted pdfs for mixture distribution\n",
    "\n",
    "# true pdfs\n",
    "pdfs_true = [sps.multivariate_normal.pdf(vals, mus[k], sigmas[k]) for k in range(K)]\n",
    "\n",
    "plt.figure(figsize=(10,3), dpi=100)\n",
    "plt.subplot(1,3,1)\n",
    "# for k,pdf in enumerate(pdfs_true):\n",
    "#     plt.contour(pdf.T, colors=colors[k])\n",
    "plt.title('mixture components (true)')\n",
    "plt.xlabel('horizontal position (a.u.)')\n",
    "plt.ylabel('vertical position (a.u.)')\n",
    "\n",
    "plt.subplot(1,3,2)\n",
    "# for k,pdf in enumerate(pdfs):\n",
    "#     plt.contour(pdf.T, colors=colors[k])\n",
    "plt.title('mixture components (estimated)')\n",
    "plt.xlabel('horizontal position (a.u.)')\n",
    "plt.ylabel('vertical position (a.u.)')\n",
    "\n",
    "plt.subplot(1,3,3)\n",
    "# plt.contourf(mixture_pdf.T, cmap='magma')\n",
    "plt.title('mixture distribution (estimated)')\n",
    "plt.xlabel('horizontal position (a.u.)')\n",
    "plt.ylabel('vertical position (a.u.)')\n",
    "plt.tight_layout()"
   ]
  },
  {
   "cell_type": "markdown",
   "id": "7e2a8aea",
   "metadata": {},
   "source": [
    "## Custom mixtures"
   ]
  },
  {
   "cell_type": "markdown",
   "id": "6825e83f",
   "metadata": {},
   "source": [
    "We could easily customize our mixture model to incorporate different mixture distributions than Gaussians, for example a Student-t distribution. Here, the center of the object would have a higher saccade density, whereas the margins of the saccade distribution seem to be flatter.\n",
    "\n",
    "We could model a mixture of one Student-t component and two Gaussian components:\n",
    "\n",
    "\\begin{align}\n",
    "p(\\boldsymbol{x}) = \\pi_{1} \\mathcal{N}(\\boldsymbol{x} | \\mu_1, \\Sigma_1) + \\pi_{2} \\mathcal{N}(\\boldsymbol{x} | \\mu_2, \\Sigma_2) + \\pi_{3} \\mathcal{St}(\\boldsymbol{x} | \\mu_3, \\Sigma_3, \\nu)\n",
    "\\end{align}\n",
    "\n",
    "The Student-t distribution $\\mathcal{St}(\\boldsymbol{x} | \\mu, \\Sigma, \\nu)$ has parameters $\\mu$ and $\\Sigma$, just like the Gaussian, and an additional parameter $\\nu \\in \\mathbb{R}_{+}$ (called degrees of freedom). For $\\nu\\to\\infty$, the Student-t distribution becomes a Gaussian, while it is significantly more \"peaked\" with flat margins for $\\nu\\to0$. You can evaluate its probability density function by calling `sps.multivariate_t.pdf(x, mu, sigma, nu)`."
   ]
  },
  {
   "cell_type": "code",
   "execution_count": 51,
   "id": "5306e00d",
   "metadata": {},
   "outputs": [],
   "source": [
    "# degrees of freedom parameter\n",
    "nu = .9"
   ]
  },
  {
   "cell_type": "code",
   "execution_count": 52,
   "id": "e67fdd1f",
   "metadata": {},
   "outputs": [
    {
     "data": {
      "image/png": "[encoded data removed]",
      "text/plain": [
       "<Figure size 700x300 with 2 Axes>"
      ]
     },
     "metadata": {
      "needs_background": "light"
     },
     "output_type": "display_data"
    }
   ],
   "source": [
    "x, y = np.mgrid[0:80:1, 0:60:1]\n",
    "vals = np.dstack((x, y))\n",
    "\n",
    "# evaluate Gaussian pdfs\n",
    "\n",
    "# add Student t pdf\n",
    "\n",
    "# first component is Student t, others are Gaussian\n",
    "\n",
    "\n",
    "# sum weighted pdfs for mixture distribution\n",
    "\n",
    "plt.figure(figsize=(7,3), dpi=100)\n",
    "plt.subplot(1,2,1)\n",
    "# for k,pdf in enumerate(pdfs):\n",
    "#     plt.contour(pdf.T, colors=colors[k])\n",
    "plt.title('mixture components')\n",
    "plt.xlabel('horizontal position (a.u.)')\n",
    "plt.ylabel('vertical position (a.u.)')\n",
    "\n",
    "plt.subplot(1,2,2)\n",
    "# plt.contourf(mixture_pdf.T, cmap='magma')\n",
    "plt.title('mixture distribution')\n",
    "plt.xlabel('horizontal position (a.u.)')\n",
    "plt.ylabel('vertical position (a.u.)')\n",
    "plt.tight_layout()"
   ]
  },
  {
   "cell_type": "code",
   "execution_count": null,
   "id": "5dad6e76",
   "metadata": {},
   "outputs": [],
   "source": []
  }
 ],
 "metadata": {
  "kernelspec": {
   "display_name": "Python 3 (ipykernel)",
   "language": "python",
   "name": "python3"
  },
  "language_info": {
   "codemirror_mode": {
    "name": "ipython",
    "version": 3
   },
   "file_extension": ".py",
   "mimetype": "text/x-python",
   "name": "python",
   "nbconvert_exporter": "python",
   "pygments_lexer": "ipython3",
   "version": "3.8.12"
  }
 },
 "nbformat": 4,
 "nbformat_minor": 5
}
