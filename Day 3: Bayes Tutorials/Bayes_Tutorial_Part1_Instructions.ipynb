{
  "cells": [
    {
      "cell_type": "markdown",
      "metadata": {
        "id": "z3bkcStgj37A"
      },
      "source": [
        "# **BAYESIAN MODELS**"
      ]
    },
    {
      "cell_type": "code",
      "execution_count": null,
      "metadata": {
        "id": "ObtAcirQEinz"
      },
      "outputs": [],
      "source": [
        "import numpy as np\n",
        "import pandas as pd\n",
        "\n",
        "import scipy.stats as sps\n",
        "import scipy.integrate as spi\n",
        "import scipy.special as spsc\n",
        "import scipy.optimize as spo\n",
        "\n",
        "import matplotlib.pyplot as plt\n"
      ]
    },
    {
      "cell_type": "markdown",
      "metadata": {
        "id": "rUFHA2h7l2hP"
      },
      "source": [
        "## **Contents**\n",
        "\n",
        "1. Basic bayes\n",
        "\n",
        "      a. Bayes theorem\n",
        "\n",
        "      b. Bayesian statistics\n",
        "\n",
        "      c. Using prior knowledge\n",
        "\n",
        "\n",
        "2. Bayesian observers\n",
        "\n",
        "      a. Neural orientation likelihoods\n",
        "\n",
        "      b. Cardinal prior\n",
        "\n",
        "      c. Biological implementation\n",
        "\n"
      ]
    },
    {
      "cell_type": "markdown",
      "metadata": {
        "id": "LXFCxjmCm8rR"
      },
      "source": [
        "## Part 1: Basic Bayes"
      ]
    },
    {
      "cell_type": "markdown",
      "metadata": {
        "id": "6jBkgFM3nIDY"
      },
      "source": [
        "### 1a. Bayes Theorem"
      ]
    },
    {
      "cell_type": "markdown",
      "metadata": {
        "id": "9K7NQd8cncFI"
      },
      "source": [
        "Bayes' theorem looks rather simple:\n",
        "\n",
        "\\begin{align}\n",
        " p(A|B) = \\frac{p(B|A) p(A)} {p(B)}\n",
        "\\end{align}\n",
        "\n",
        "\\\\\n",
        "The probability of A given B is equal to the probability of B given A multiplied by the probability of A, divided by the probability of B. But many people find this unintuitive, generating what's known as base-rate neglect (Kahneman & Tversky, 1973). The typical example is:\n",
        "\n",
        "*Suppose that 0.1% of all people in a population carry a virus. A\n",
        "diagnostic test for this virus detects it in 100% of the people who have the virus, but also gives false alarms on 5% of the people who do not have the virus. What is the chance that a person with a positive test result actually has the virus?*\n",
        "\n",
        "In a recent experiment (Stengard et al., Cognition, 2022) found the modal response was \"95%\" (~20% of participants).\n",
        "\n",
        "Calculate the correct response using Bayes Theorem. Use A = \"having the virus\" and B = \"testing positive\""
      ]
    },
    {
      "cell_type": "code",
      "execution_count": 1,
      "metadata": {
        "id": "oM2i0H4jqdG8"
      },
      "outputs": [],
      "source": [
        "# Define pA, the probability of having the virus\n",
        "\n",
        "\n",
        "# Define pBA, the probability of testing positive given you have the virus\n",
        "\n",
        "\n",
        "# Define pB, the probability of testing positive\n",
        "# This is the sum of the 0.1% of the population who have the virus and will\n",
        "# test positive, plus the 99.9% of the population who have a 5% chance of\n",
        "# testing positive\n",
        "\n",
        "\n",
        "# Apply Bayes theorem, pAB = (pBA*pA)/pB and print the result\n",
        "\n"
      ]
    },
    {
      "cell_type": "markdown",
      "metadata": {
        "id": "EJk6wrZcqj3d"
      },
      "source": [
        "Stengard et al., found just 9% of participants gave an answer between 1.8% and 2.2%, in line with previous studies, where the correct answer is given less than 20% of the time.\n",
        "\n",
        "If you found that unintuitive, try another (Based on Bar-Hillel, 1980):\n",
        "\n",
        "*In the city, 85% of cabs are blue and 15% are green. In a hit and run accident, an eye-witness identifies a green cab. The accident happened at night, and when tested, it was found the witness confuses blue and green at night 20% of the time. What is the chance the cab was green?*\n",
        "\n",
        "A = \"cab is green\", B = \"witness sees green\""
      ]
    },
    {
      "cell_type": "code",
      "execution_count": 2,
      "metadata": {
        "id": "hq656PP_q-2Q"
      },
      "outputs": [],
      "source": [
        "# Define pA, the probability that the cab is green\n",
        "\n",
        "\n",
        "# Define pBA, the probability that the witness reports a green cab is green\n",
        "\n",
        "\n",
        "# Define pB, the probability that the witness reports a green cab, given either\n",
        "# a green or a blue cab\n",
        "\n",
        "\n",
        "# Apply Bayes and print the result\n"
      ]
    },
    {
      "cell_type": "markdown",
      "source": [
        "Correct answer: 41.38%"
      ],
      "metadata": {
        "id": "TMdGIT1dqtEe"
      }
    },
    {
      "cell_type": "markdown",
      "metadata": {
        "id": "w2VGshiDrDGZ"
      },
      "source": [
        "### 1b. Bayesian Statistics"
      ]
    },
    {
      "cell_type": "markdown",
      "metadata": {
        "id": "m5zQIByOrMLK"
      },
      "source": [
        "The terms of Bayes theorem are often referred to as:\n",
        "- the posterior $p(A|B)$,\n",
        "- the likelihood $p(B|A)$,\n",
        "- the prior $p(A)$, and\n",
        "- the marginal likelihood $p(B)$.\n",
        "\n",
        "Here we use the term 'likelihood'.\n",
        "\n",
        "Note that probabilities have to add to 1: $p(A) = 1 - p({\\displaystyle \\neg }A)$, likelihoods do not.\n",
        "\n",
        "In Bayesian statistics, we think about this in terms of data (e.g., a random variable $\\boldsymbol{x}$) and model parameters $\\theta$: We ask, *what is the probability of the model parameter, given the data, $p(\\theta | \\boldsymbol{x})$?*\n",
        "\n",
        "For example, what is the probability of the null hypothesis that the mean is 0? Which is calculated as the probability of the data given the model parameter $p(\\boldsymbol{x}|\\theta)$, multiplied by the prior probability of model parameter $p(\\theta)$. Therefore, Bayes theorem in the context of parameter estimation is\n",
        "\n",
        "\\begin{align}\n",
        " p(\\theta|\\boldsymbol{x}) = \\frac{p(\\boldsymbol{x}|\\theta) p(\\theta)} {p(\\boldsymbol{x})}\n",
        "\\end{align}\n",
        "\n",
        "\n",
        "\\\\\n",
        "\n",
        "\n",
        "Simple example: We observe N = 50 samples of data $\\boldsymbol{x}$, which have been sampled from a Gaussian with a true mean $\\mu = 0$ and standard deviation $\\sigma = 1$: $\\boldsymbol{x} \\sim \\mathcal{N}(0, 1)$. Our parameters are $\\theta = \\{\\mu, \\sigma \\}$.\n",
        "\n",
        "\\\\\n",
        "\n",
        "Use `sps.norm.rvs(loc=mu, scale=sigma, size=N)` to take 50 samples of data."
      ]
    },
    {
      "cell_type": "code",
      "execution_count": null,
      "metadata": {
        "id": "mv6MCtQZsrqQ"
      },
      "outputs": [],
      "source": [
        "# take 50 random samples from a Normal distribution\n",
        "\n",
        "\n"
      ]
    },
    {
      "cell_type": "markdown",
      "metadata": {
        "id": "WQtRISB0tGJU"
      },
      "source": [
        " Assume we know the true standard deviation is 1, but we're unsure about  the true mean: it could be anywhere between -1 and 1, with equal likelihood (uniform/uninformative prior)."
      ]
    },
    {
      "cell_type": "code",
      "execution_count": null,
      "metadata": {
        "id": "71p5O968tMDJ"
      },
      "outputs": [],
      "source": [
        "# Prior function: A function of mu that uses sps.uniform.pdf to calculate the\n",
        "# likelihood of mu under the prior uniform distribution; location = -1, scale = 2\n",
        "def uniform_prior(mu):\n",
        "\n",
        "    prior = sps.uniform.pdf(x=mu, loc=-1, scale=2)\n",
        "\n",
        "    return prior\n",
        "\n",
        "\n",
        "# Likelihood function: returns the likelihood of the data given mu. The input\n",
        "# The likelihood function is a normal distribution: sps.norm.pdf with scale\n",
        "# (sigma) fixed to 1 (because we are assuming we know the true standard deviation)\n",
        "def likelihood(data, mu):\n",
        "\n",
        "    lh = sps.norm.pdf(x=data, loc=mu, scale=1)\n",
        "\n",
        "    return lh"
      ]
    },
    {
      "cell_type": "markdown",
      "metadata": {
        "id": "pb_CFJ1xt5_7"
      },
      "source": [
        "The posterior can be calculated as proportional to the prior multiplied by the likelihood: $p(\\theta | \\boldsymbol{x}) \\propto p(\\theta) p(\\boldsymbol{x} | \\theta)$.\n",
        "\n",
        "For now, ignore the marginal likelihood $p(\\boldsymbol{x})$."
      ]
    },
    {
      "cell_type": "code",
      "execution_count": null,
      "metadata": {
        "id": "FiKcFFTJuEUs"
      },
      "outputs": [],
      "source": [
        "# Define a function to return the posterior:\n",
        "# uniform_prior(mu) * likelihood(data, mu)\n",
        "# Hint: the posterior is the product over the data samples\n",
        "\n",
        "def posterior_prod(mu, data):\n",
        "\n",
        "    post = uniform_prior(mu) * likelihood(data, mu)\n",
        "\n",
        "    return np.prod(post)"
      ]
    },
    {
      "cell_type": "markdown",
      "metadata": {
        "id": "oxLJAsT-wvGK"
      },
      "source": [
        "To visualise, make a histogram of the data and overlay distributions with 10 possible means."
      ]
    },
    {
      "cell_type": "code",
      "execution_count": null,
      "metadata": {
        "id": "No1JAk8Uxb1W"
      },
      "outputs": [],
      "source": [
        "# Use np.linspace to take 5 possible means between -1 and 1\n",
        "\n",
        "\n",
        "# For the x-axis, take 100 possible values between -4 and 4\n",
        "\n",
        "\n",
        "# Plot a histogram of the observed data (use density=True)\n",
        "plt.figure(figsize=(3,2), dpi=100)\n",
        "\n",
        "\n",
        "\n",
        "# Overlay the expected distributions for each of the 5 possible mus\n",
        "# You can use the likelihood function with data=xs (the x-axis values)\n",
        "\n",
        "\n",
        "\n",
        "plt.xlabel('Data value')\n",
        "plt.ylabel('Density')"
      ]
    },
    {
      "cell_type": "markdown",
      "metadata": {
        "id": "gg3wzRI8z-2S"
      },
      "source": [
        "Plot the prior, the likelihood, and the posterior, over 100 discrete possible means."
      ]
    },
    {
      "cell_type": "code",
      "execution_count": null,
      "metadata": {
        "id": "-aASSpLH0LIb"
      },
      "outputs": [],
      "source": [
        "# Define a new x-axis, which is 100 possible mus evenly spaced between -1 and 1\n",
        "mus = np.linspace(-1, 1, 100)\n",
        "\n",
        "\n",
        "fig = plt.figure(figsize=(6,6))\n",
        "ax = fig.subplots(3, 1)\n",
        "# On  subplot 1, plot the uniform prior function of mu\n",
        "\n",
        "\n",
        "\n",
        "ax[0].set(xlabel='mu', ylabel='prior')\n",
        "\n",
        "# On a second subplot, plot the likelihood of the data as a function of mu\n",
        "# The likelihood is the product across data samples, so take the output of the\n",
        "# likelihood function as a numpy array\n",
        "\n",
        "\n",
        "\n",
        "ax[1].set(xlabel='mu', ylabel='likelihood')\n",
        "\n",
        "# Calculate the posterior, using the functions, for each possible mu\n",
        "post = np.array([posterior_prod(m, data) for m in mus])\n",
        "\n",
        "# Plot on the third subplot\n",
        "\n",
        "ax[2].set(xlabel='mu', ylabel='posterior')\n",
        "plt.tight_layout()"
      ]
    },
    {
      "cell_type": "markdown",
      "metadata": {
        "id": "DqIvPZz91q2b"
      },
      "source": [
        "What is the posterior probability of the null hypothesis that the mean\n",
        "is 0?\n"
      ]
    },
    {
      "cell_type": "code",
      "execution_count": null,
      "metadata": {
        "id": "fgMMO3Z41yX6"
      },
      "outputs": [],
      "source": [
        "# Define pH0, the value of the posterior at mean = 0 and print the value\n",
        "\n"
      ]
    },
    {
      "cell_type": "markdown",
      "metadata": {
        "id": "XIkGNaAS2AXO"
      },
      "source": [
        "What is the posterior probability of alternative hypothesis 1: the mean is greater than 0 (up to 1)?\n",
        "\n",
        "For this, we could do some math (integrate over values from 0 to 1), but in reality we're often faced with more complicated problems that don't have simple mathematical solutions... We can use numerical integration to estimate the probability density under the posterior from 0 to 1. Use the function `spi.quad(function, a, b)` to integrate the posterior from a=0 to b=1. An easy way to pass the function"
      ]
    },
    {
      "cell_type": "code",
      "execution_count": null,
      "metadata": {
        "id": "NkPiIN152fPe"
      },
      "outputs": [],
      "source": [
        "# Calculate pH1 using spi.quad, and the posterior function we already defined\n",
        "\n"
      ]
    },
    {
      "cell_type": "markdown",
      "metadata": {
        "id": "4KEg7N2E2q7s"
      },
      "source": [
        "Model comparison can be performed using Bayes factor:\n",
        "\n",
        "\\begin{align}\n",
        "BF = \\frac{p(H_0)}{p(H_1)}\n",
        "\\end{align}"
      ]
    },
    {
      "cell_type": "code",
      "execution_count": null,
      "metadata": {
        "id": "mEirbATz3QDs"
      },
      "outputs": [],
      "source": [
        "# Calculate BF and print the result\n",
        "\n"
      ]
    },
    {
      "cell_type": "markdown",
      "metadata": {
        "id": "SkD2l0nD3UCH"
      },
      "source": [
        "If this kind of comparison is our goal, we can safely ignore the\n",
        "marginal likelihood term, probability of the data $p(\\boldsymbol{x})$, because it is the same for $p(H_0)$ and $p(H_1)$.\n"
      ]
    },
    {
      "cell_type": "markdown",
      "metadata": {
        "id": "-c-G0MMh3q9Y"
      },
      "source": [
        "### 1c. Using Prior Knowledge"
      ]
    },
    {
      "cell_type": "markdown",
      "metadata": {
        "id": "2yAEVlUd302X"
      },
      "source": [
        "What if we have some idea that the mean should be close to 0?\n",
        "\n",
        "We can set the prior to a normal distribution, with a mean of 0 and a stantard deviation of 0.2\n"
      ]
    },
    {
      "cell_type": "code",
      "execution_count": null,
      "metadata": {
        "id": "Fc622V_X397F"
      },
      "outputs": [],
      "source": [
        "# Define a new function for the prior, which is a gaussian distribution\n",
        "# over possible mus, with location = 0 and scale = 0.2\n",
        "\n",
        "\n",
        "\n",
        "# Define a new function for the prosterior, which is the same as before,\n",
        "# but uses the new gaussian prior\n",
        "\n"
      ]
    },
    {
      "cell_type": "markdown",
      "metadata": {
        "id": "EQp52qio4FdZ"
      },
      "source": [
        "To visualise, plot the two priors, likelihood, and the two different posteriors in the same manner as before"
      ]
    },
    {
      "cell_type": "code",
      "execution_count": null,
      "metadata": {
        "id": "hykBjJpW4HYz"
      },
      "outputs": [],
      "source": [
        "# Make a new figure with 3 subplots\n",
        "\n",
        "fig = plt.figure(figsize=(6,6))\n",
        "ax = fig.subplots(3, 1)\n",
        "\n",
        "# On the first subplot, plot the uniform prior as before, and the new gaussian prior\n",
        "# (Use different colours)\n",
        "\n",
        "\n",
        "ax[0].set(xlabel='mu', ylabel='prior')\n",
        "\n",
        "# On the second subplot, plot the likelihood as before\n",
        "\n",
        "\n",
        "ax[1].set(xlabel='mu', ylabel='likelihood')\n",
        "\n",
        "# plot the previous posterior, and overlay the new posterior\n",
        "\n",
        "\n",
        "\n",
        "\n",
        "# use the right-hand y-axis, as there is a big difference in the posterior\n",
        "\n",
        "\n",
        "ax[2].set(xlabel='mu', ylabel='posterior')\n",
        "\n",
        "plt.tight_layout()"
      ]
    },
    {
      "cell_type": "code",
      "execution_count": null,
      "metadata": {
        "id": "SThHEMzjEin-"
      },
      "outputs": [],
      "source": [
        "# what is the likelihood of the null hypothesis that the mean is 0?\n",
        "\n",
        "\n",
        "\n",
        "# Use spi.quad to estimate the likelihood of the alternative hypothesis as before\n",
        "\n",
        "\n",
        "# Print Bayes Factor\n"
      ]
    },
    {
      "cell_type": "markdown",
      "metadata": {
        "id": "9XrAzOp652-c"
      },
      "source": [
        "You should see that the posterior is now closer to 0 and has a tighter range: using a more specific prior increases accuracy and decreases uncertainty (so long as the prior is valid).\n",
        "\n",
        "Bayes Factor is also much larger, indicating greater evidence in favour of the null hypothesis.\n",
        "\n",
        "If you want, try changing the prior to be centred on mu = 0.1, and see what happens to the posterior and Bayes Factor.\n",
        "\n",
        "\\\\\n",
        "\n",
        "Things can get more complicated: we're often dealing with uncertainty across multiple parameters. Say we didn't know the standard deviation, then we would have to marginalise this out to look at the posterior mean. Marginalising is another integral, we would end up with:\n",
        "\n",
        "\\begin{align}\n",
        "p(H_1|\\boldsymbol{x}) = \\int{ \\int{ p(\\boldsymbol{x}|\\mu,\\sigma)p(\\sigma)p(\\mu)d\\sigma} d\\mu}\n",
        "\\end{align}\n",
        "\n",
        "As things get more complicated, we can switch the MCMC to estimate the integral. This is a problem for another day.\n",
        "\n",
        "A great introduction to the MCMC approach:\n",
        "van de Schoot, R., Depaoli, S., King, R., Kramer, B., Märtens, K., Tadesse, M. G., ... & Yau, C. (2021). Bayesian statistics and modelling. Nature Reviews Methods Primers, 1(1), 1.\n",
        "\n",
        "More on Bayesian hypothesis testing:\n",
        "Kruschke, J. (2014). Doing Bayesian data analysis. A tutorial with R:\n",
        "JAGS, and Stan. Elsevier Science.\n",
        "AKA \"The puppy book\"\n"
      ]
    },
    {
      "cell_type": "markdown",
      "metadata": {
        "id": "rKLpamKTEZDE"
      },
      "source": [
        "## Part 2: Bayesian Observers"
      ]
    },
    {
      "cell_type": "markdown",
      "metadata": {
        "id": "FfG-hDKLEh-b"
      },
      "source": [
        "### 2a. Neural Orientation Likelihoods"
      ]
    },
    {
      "cell_type": "markdown",
      "metadata": {
        "id": "8aiz2l8zEo2s"
      },
      "source": [
        "Bayes is the ***'optimal'*** way to use what we know about previous 'states of the world' to have better estimates of current 'states of the world', as well as reducing our uncertainty.\n",
        "\n",
        "Perception is a fundamental example of a useful application of Bayes: we do not have direct access to any 'truth' of the world around us, only noisy estimates from indirect measures (light, sound, et cetera).\n",
        "\n",
        "Perception is the result of a decision about the most likely cause of the noisy and ambigous sensory evidence, which is additionally disrupted by our own noisy perceptual processes.\n",
        "\n",
        "Using Bayes, this can be framed as taking the maximum likelihood of our\n",
        "posterior estimate of the cause of our sensations:\n",
        "\n",
        "\\\\\n",
        "\n",
        "\\begin{align}\n",
        "p(cause | sensations) = \\frac{p(sensations | cause)p(cause)} { p(sensations)}\n",
        "\\end{align}\n",
        "\n",
        "\\\\\n",
        "\n",
        "A basic example is in perceiving the orientation of a line.\n",
        "\n",
        "V1, the first cortical step of visual processing, contains neurons whose firing rates are a function of orientation. Specifically, firing rate is modulated according to a circular gaussian (Von Mises) distribution, with a certain mean, mu, and concentration, kappa (~ inverse variance).\n",
        "\n",
        "\n",
        "\n"
      ]
    },
    {
      "cell_type": "code",
      "execution_count": null,
      "metadata": {
        "id": "ih57f082Ein_"
      },
      "outputs": [],
      "source": [
        "# Von Mises Distribution:\n",
        "# x and mu are in radians (not degrees)\n",
        "def vmdist(x, kappa, mu):\n",
        "\n",
        "    pdf = (1 / (np.pi * spsc.i0(kappa))) * np.exp(kappa * np.cos(2 * (x - mu)))\n",
        "\n",
        "    return pdf\n"
      ]
    },
    {
      "cell_type": "markdown",
      "source": [
        "Let's pretend V1 has 18 neurons, whose firing rates are tuned according to distributions with means equidistant across the full 180 degrees of possible orientations.\n",
        "\n",
        "Plot the firing rates of the 18 neurons as a function of presented orientation"
      ],
      "metadata": {
        "id": "t3-8CoM4776l"
      }
    },
    {
      "cell_type": "code",
      "execution_count": null,
      "metadata": {
        "id": "UXnshJCQFkGu"
      },
      "outputs": [],
      "source": [
        "nneurons = 18\n",
        "\n",
        "# Define v1mus as linearly spaced between 0 and pi radians (180 degrees)\n",
        "\n",
        "\n",
        "# Von Mises concentration parameter\n",
        "kappa = 3.65  # estimating fwhm of about 70 degrees, similar to real V1 neurons\n",
        "\n",
        "# To plot, use an even sampling of 180 possible presented orientations, between 0 and pi\n",
        "# Define oris, the samples of possible presented orientations (in radians)\n",
        "\n",
        "\n",
        "# Create an array of the firing rates as a function of presented orientations\n",
        "# for the 18 neurons, where each row is a neuron\n",
        "# Use the Von Mises distribution function defined above\n",
        "\n",
        "\n",
        "# Plot the firing rate of each neuron as a function of presented orientation\n",
        "fig, ax = plt.subplots()\n",
        "\n",
        "\n",
        "\n",
        "ax.set(xlabel='Presented Orientation', ylabel='Firing rate')"
      ]
    },
    {
      "cell_type": "markdown",
      "metadata": {
        "id": "keTLhpwvGxsC"
      },
      "source": [
        "Neuron spike counts tend to be poisson distributed, the plot shows something proportional to mean firing rate (in response to each presented orientation), the mean is also proportional to the variance (because it's a poisson).\n",
        "\n",
        "You should see from the plot that the firing rate of any one neuron is ambiguous with respect to which orientation was presented. For example, if the neuron maximally tuned to 90 degrees (cyan if using default colours) were firing at 0.8 of its maximal rate, this could be due to a presented orientation of either ~80 degrees or ~110 degrees.\n",
        "\n",
        "\n"
      ]
    },
    {
      "cell_type": "markdown",
      "source": [
        "The log-likelihood of the stimulus orientation given the neuron's spike count can be estimated as the spike count multiplied by the log of the firing rate function (Seung & Sompolinsky, 1993; Jazayeri & Movshon, 2006).\n",
        "\n",
        "The estimate of the orientation will be the maximum a posteriori likelihood (**MAP**).\n",
        "\n",
        "\n",
        "\\\\\n",
        "\n",
        "\n",
        "Note: working with log probability is easier than working with probability\n",
        "\n",
        "Reminder:\n",
        "\n",
        "$log(p(A)p(B)) = log(p(A)) + log(p(B))$\n",
        "\n",
        "$log(p(A)/p(B)) = log(p(A)) - log(p(B))$\n",
        "\n",
        "\\\\\n",
        "\n",
        "So if we want to calculate the log-likelihood of the presented orientation given the response of all neurons we can *sum* the log likelihoods across all neurons.\n"
      ],
      "metadata": {
        "id": "s-j_iHlE-wVE"
      }
    },
    {
      "cell_type": "code",
      "execution_count": null,
      "metadata": {
        "id": "9t218clKEioI"
      },
      "outputs": [],
      "source": [
        "# We are going to estimate the MAP orientation based on the average\n",
        "# firing rates of our 18 neurons, in response to 10 test orientations\n",
        "ntest = 10\n",
        "\n",
        "# Define the test orientations as linearly spaced between 0 and pi\n",
        "\n",
        "\n",
        "\n",
        "# The average posterior log likelihood is the log of the firing rate function\n",
        "# multiplied by the firing rate, summed over the neurons\n",
        "# Calculate the averate posterior log likelihood for each presented test orientation\n",
        "# (the posterior log likelihood distributed over the possible orientations defined above)\n",
        "\n",
        "\n",
        "# Find the location of the maximum posterior log likelihood for each test orientation\n",
        "# using np.argmax\n",
        "\n",
        "\n",
        "# The average MAP orientation is the possible orientation corresponding to\n",
        "# the location of the MAP\n",
        "\n"
      ]
    },
    {
      "cell_type": "markdown",
      "metadata": {
        "id": "XNXrX2D4MuwT"
      },
      "source": [
        "Plot the average posterior log likelihood for each test orientation and scatter the maximum a posteriori"
      ]
    },
    {
      "cell_type": "code",
      "execution_count": null,
      "metadata": {
        "id": "ChBvz7y8NEzK"
      },
      "outputs": [],
      "source": [
        "# Create a figure\n",
        "fig, ax = plt.subplots()\n",
        "\n",
        "# For each test orientation\n",
        "\n",
        "    # Plot the average posterior log likelihood across possible orientations\n",
        "\n",
        "    # scatter the average MAP orientation by max post log likelihood\n",
        "\n",
        "    # for comparison, plot lines showing the test orientations\n",
        "\n",
        "\n",
        "ax.set(xlabel='Orientation', ylabel='Log posterior')\n"
      ]
    },
    {
      "cell_type": "markdown",
      "metadata": {
        "id": "VhQq4M7eP6PQ"
      },
      "source": [
        "This is the expected average MAP, given the firing rate functions.\n",
        "\n",
        "We can also simulate the neuron firing rates, to examine variability in the MAP orientation over multiple presentations of the test orientations.\n"
      ]
    },
    {
      "cell_type": "code",
      "execution_count": null,
      "metadata": {
        "id": "lhbK9sr0sYCW"
      },
      "outputs": [],
      "source": [
        "# General function to get simulated neural MAP\n",
        "def simMAP(test_oris,possible_oris,v1mus,kappa,v1fr,prior,nsim):\n",
        "\n",
        "    nneurons = v1mus.shape[0] # the number of neurons\n",
        "    ntest = test_oris.shape[0] # the number of test orientation\n",
        "\n",
        "    MAP = np.zeros((ntest,nsim))\n",
        "\n",
        "    # for each test orientation\n",
        "    for ti in range(ntest):\n",
        "\n",
        "      # posterior log likelihood is summed over all neurons\n",
        "      post = np.zeros((nsim, 180))\n",
        "\n",
        "      for ni in range(nneurons):\n",
        "\n",
        "          # the mean firing rate in response to the test orientation\n",
        "          fr = vmdist(test_oris[ti], kappa, v1mus[ni])\n",
        "\n",
        "          # The simulated firing rates, drawn from a poisson with mean = fr\n",
        "          post += sps.poisson.rvs(fr, size=(nsim, 1)) * np.log(v1fr[ni]) + np.log(prior)\n",
        "\n",
        "      # get the MAP orientations for each test orientation\n",
        "      MAP[ti] = oris[np.argmax(post, axis=1)]\n",
        "\n",
        "\n",
        "    return MAP\n",
        "\n"
      ]
    },
    {
      "cell_type": "markdown",
      "source": [
        "Use this function, assuming a uniform prior over the possible orientations, to generate 100 simulated MAP orientations.\n"
      ],
      "metadata": {
        "id": "8rKB4atnQ_pk"
      }
    },
    {
      "cell_type": "code",
      "execution_count": null,
      "metadata": {
        "id": "PTdYK3eHQcSc"
      },
      "outputs": [],
      "source": [
        "# Define the prior as equiprobable across the 180 possible orientations\n",
        "\n",
        "\n",
        "# use the function above to generate 100 simulate MAP orientations for each\n",
        "# test orientation\n",
        "\n",
        "\n",
        "# Create a scatterplot of the actual test orientations against the simulated MAP\n",
        "# orientations\n",
        "fig, ax = plt.subplots()\n",
        "\n",
        "\n",
        "# also plot the average of the simulated MAP orientations\n",
        "\n",
        "\n",
        "ax.set(xlabel='True orientation', ylabel='Inferred orientation')"
      ]
    },
    {
      "cell_type": "markdown",
      "metadata": {
        "id": "l7x6TmLjSg7a"
      },
      "source": [
        "### 2b. Cardinal Prior"
      ]
    },
    {
      "cell_type": "markdown",
      "metadata": {
        "id": "ltogQHmCTE9n"
      },
      "source": [
        "In the real world, we are more likely to encounter orientations close vertical and horizontal (the 'Cardinal' orientations; Girshick, Landy, & Simoncelli, 2011).\n",
        "\n",
        "\n",
        "This prior can be roughly described by:"
      ]
    },
    {
      "cell_type": "code",
      "execution_count": null,
      "metadata": {
        "colab": {
          "base_uri": "https://localhost:8080/",
          "height": 232
        },
        "id": "W1T4aqXdTPo3",
        "outputId": "13536271-fc91-4d4f-9b14-b7770728fe30"
      },
      "outputs": [
        {
          "output_type": "execute_result",
          "data": {
            "text/plain": [
              "[<matplotlib.lines.Line2D at 0x7cee74d41510>]"
            ]
          },
          "metadata": {},
          "execution_count": 44
        },
        {
          "output_type": "display_data",
          "data": {
            "text/plain": [
              "<Figure size 300x200 with 1 Axes>"
            ],
            "image/png": "[encoded data removed]"
          },
          "metadata": {}
        }
      ],
      "source": [
        "# Linear spacing of possible orientations\n",
        "oris = np.linspace(0, np.pi, 180)\n",
        "# The prior peaks at 0, 90, and 180 degrees (horizontal and vertical)\n",
        "prior_ori = (1 - np.abs(np.sin(2*oris)) * 0.3) + 0.01\n",
        "\n",
        "plt.figure(figsize=(3,2), dpi=100)\n",
        "plt.plot(oris*180/np.pi,prior_ori, 'k')"
      ]
    },
    {
      "cell_type": "markdown",
      "metadata": {
        "id": "8jpDYQpMTW4t"
      },
      "source": [
        "We can look at the effect of this prior on the average estimate by adding it to the mean posterior (multiplied by the number of neurons)\n",
        "since $log(p(A)*p(B)) = log(p(A)) + log(p(B))$\n",
        "\n",
        "Add the prior, recalculate the average MAP and plot.\n"
      ]
    },
    {
      "cell_type": "code",
      "execution_count": null,
      "metadata": {
        "id": "OQtm27JVEioI"
      },
      "outputs": [],
      "source": [
        "# Define a second average posterior log likelihood by adding the log of the\n",
        "# prior likelihood (x nneurons) to the average posterior calculated earlier\n",
        "\n",
        "\n",
        "# Calculate the new MAP orientation, using the armax location of the MAP as before\n",
        "\n"
      ]
    },
    {
      "cell_type": "markdown",
      "source": [
        "Plot the new posterior likelihood functions for each test orientation as before, scattering the MAP and marking the true test orientations.\n",
        "\n",
        "It might help to visualise the log prior and the firing rates in subplots above this."
      ],
      "metadata": {
        "id": "MXT1IaJBVULC"
      }
    },
    {
      "cell_type": "code",
      "execution_count": null,
      "metadata": {
        "id": "cNGKjjBBTeDG"
      },
      "outputs": [],
      "source": [
        "# Plot the log prior in the first subplot\n",
        "# and the firing rates in the second\n",
        "\n",
        "fig = plt.figure(figsize=(8,8))\n",
        "ax = fig.subplots(3, 1)\n",
        "\n",
        "# plot prior\n",
        "\n",
        "\n",
        "# plot fr\n",
        "\n",
        "ax[1].set(xlabel='Orientation', ylabel='firing rate')\n",
        "\n",
        "# plot log posterior for each test orientation,\n",
        "\n",
        "    # plot the posterior log likelihood\n",
        "\n",
        "\n",
        "    # scatter the MAP orientation\n",
        "\n",
        "\n",
        "    # plot the true test orientations for comparison\n",
        "\n",
        "\n",
        "ax[2].set(xlabel='Orientation', ylabel='log posterior')\n",
        "\n",
        "plt.tight_layout()"
      ]
    },
    {
      "cell_type": "markdown",
      "metadata": {
        "id": "YeLEhYH4T_Hw"
      },
      "source": [
        "You should see that the estimated orientations are pulled toward the cardinal orientations. Why would this be helpful?\n",
        "\n",
        "Simulate again, and plot the estimated against the true orientation\n"
      ]
    },
    {
      "cell_type": "code",
      "execution_count": null,
      "metadata": {
        "id": "NPiVGeJqEioJ"
      },
      "outputs": [],
      "source": [
        "# Use the simMAP function again to simulate 100 MAP orientations resulting the\n",
        "# test orientations with this new prior\n",
        "\n",
        "\n",
        "# Scatter the simulations against the true orientation\n",
        "fig, ax = plt.subplots()\n",
        "\n",
        "\n",
        "\n",
        "\n",
        "ax.set(xlabel='True orientation', ylabel='Inferred orientation')"
      ]
    },
    {
      "cell_type": "markdown",
      "metadata": {
        "id": "POfll9L3UtZu"
      },
      "source": [
        "You should see both a bias toward horizontal (0/180 degrees) and vertical (90 degrees), as well as the estimates being more precise around horizontal/vertical (less spread in the scatter points). This means that perception is more precise for orientations we encounter more often.\n",
        "\n",
        "These are both properties reflected in human behavioural responses to\n",
        "orientations (Wei & Stocker, 2015) and in BOLD responses to orientations (Patten, Mannion, & Clifford, 2017). (These two references also point to a more complex implementation via principles of 'efficient encoding', for those interested to read further).\n"
      ]
    },
    {
      "cell_type": "markdown",
      "metadata": {
        "id": "Zey5chTzU1SZ"
      },
      "source": [
        "### 2c. Biological implementation"
      ]
    },
    {
      "cell_type": "markdown",
      "metadata": {
        "id": "kVpkPRKfVDKI"
      },
      "source": [
        "How is this implemented in the brain? Do we actually track and represent priors? Or is there some way this can\n",
        "be implemented in a feedforward manner?\n",
        "\n",
        "Re-arrange the neurons so that they are spaced according to the prior (a bit more dramatic than the current prior), and plot the firing rate functions\n"
      ]
    },
    {
      "cell_type": "code",
      "execution_count": null,
      "metadata": {
        "id": "LAI89yZxVLhV"
      },
      "outputs": [],
      "source": [
        "# To space the neurons according to the prior, we can create a cumulative probability function of the prior\n",
        "thisp = np.cumsum((1 - np.abs(np.sin(2*oris)) * 0.8)) / np.sum((1 - np.abs(np.sin(2*oris)) * 0.8))\n",
        "\n",
        "# And find samples equidistant in cumulative probability\n",
        "ip = np.linspace(0.001, 0.999, nneurons)\n",
        "\n",
        "# Place the prior means about there\n",
        "v1mus_prior = np.zeros(nneurons)\n",
        "for ni in range(nneurons):\n",
        "    thisi = np.where(thisp >= ip[ni])[0][0]\n",
        "    v1mus_prior[ni] = oris[thisi]\n",
        "\n",
        "# Create a new array of firing rates for these neurons\n",
        "\n",
        "\n",
        "# plot the firing rate over possible orientations for each neuron\n",
        "fig, ax = plt.subplots()\n",
        "\n",
        "\n",
        "\n",
        "ax.set(xlabel='Orientation', ylabel='Firing rate')"
      ]
    },
    {
      "cell_type": "markdown",
      "metadata": {
        "id": "zYsjLyh5WhWe"
      },
      "source": [
        "Recalculate the mean posterior, simulate responses and plot (as above)"
      ]
    },
    {
      "cell_type": "code",
      "execution_count": null,
      "metadata": {
        "id": "3Cp9xRkgEioK"
      },
      "outputs": [],
      "source": [
        "# The average posterior log likelihood is the log firing rate (of the prior\n",
        "# distributed neurons) multiplied by the average firing rate in response to the\n",
        "# test orientations, summed across neurons\n",
        "\n",
        "\n",
        "# The MAP orientations, based on the location of the max posterior\n",
        "\n",
        "\n",
        "# plot the postior log likelihood and MAP orientations as before\n",
        "fig, ax = plt.subplots()\n",
        "\n",
        "\n",
        "\n",
        "\n",
        "ax.set(xlabel='orientation', ylabel='log posterior')"
      ]
    },
    {
      "cell_type": "code",
      "execution_count": null,
      "metadata": {
        "id": "SteWrxXrEioK"
      },
      "outputs": [],
      "source": [
        "# Use the simMAP function again to simulate 100 MAP orientations resulting the\n",
        "# test orientations with the neurons distributed this way, but inputting a\n",
        "# uniform / uninformative prior\n",
        "prior = np.ones((1,180))/180\n",
        "\n",
        "\n",
        "# scatter the MAP orientations against the true orientations as before\n",
        "fig, ax = plt.subplots()\n",
        "\n",
        "\n",
        "\n",
        "\n",
        "ax.set(xlabel='True orientation', ylabel='Inferred orientation')"
      ]
    },
    {
      "cell_type": "markdown",
      "metadata": {
        "id": "dBnRFMeWXR7o"
      },
      "source": [
        "You should see that having more neurons with tuning functions closer to horizontal/vertical has the same effect as the cardinal prior. The prior is now already built-in to the neural response.\n",
        "\n",
        "Early work examining cat visual cortex has demonstrated a profound impact of early visual experience on the distribution of neuronal orientation tuning functions as well as sensitivity to orientations (Blackmore & Cooper,\n",
        "1970; Hirsch & Spinelli, 1970; Hubel & Weisel, 1961).\n",
        "\n",
        "An oversimplification: the brain builds priors into the neural tuning functions naturally, by developing more neural resources for operations that are used more often (\"neurons that fire together wire together\").\n"
      ]
    }
  ],
  "metadata": {
    "colab": {
      "provenance": []
    },
    "kernelspec": {
      "display_name": "Python 3 (ipykernel)",
      "language": "python",
      "name": "python3"
    },
    "language_info": {
      "codemirror_mode": {
        "name": "ipython",
        "version": 3
      },
      "file_extension": ".py",
      "mimetype": "text/x-python",
      "name": "python",
      "nbconvert_exporter": "python",
      "pygments_lexer": "ipython3",
      "version": "3.8.12"
    }
  },
  "nbformat": 4,
  "nbformat_minor": 0
}